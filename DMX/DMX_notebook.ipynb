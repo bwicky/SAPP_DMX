{
 "cells": [
  {
   "cell_type": "code",
   "execution_count": 1,
   "id": "13d5e718-684a-4cdf-af04-f59864b27e3c",
   "metadata": {
    "tags": []
   },
   "outputs": [],
   "source": [
    "# Notebook for demultiplexing protocol version: 7.0\n",
    "# Author: Jason Qian\n",
    "# Date: 250518"
   ]
  },
  {
   "cell_type": "markdown",
   "id": "a21e4b3b-2373-4284-955b-092faf5d5a86",
   "metadata": {
    "tags": []
   },
   "source": [
    "# Import Libraries"
   ]
  },
  {
   "cell_type": "code",
   "execution_count": 1,
   "id": "8045e83a-847c-4a0f-937a-c521bbfb8fb9",
   "metadata": {},
   "outputs": [
    {
     "name": "stderr",
     "output_type": "stream",
     "text": [
      "/home/jq01/.conda/envs/jq-pyrosetta/lib/python3.11/site-packages/Bio/pairwise2.py:278: BiopythonDeprecationWarning: Bio.pairwise2 has been deprecated, and we intend to remove it in a future release of Biopython. As an alternative, please consider using Bio.Align.PairwiseAligner as a replacement, and contact the Biopython developers if you still need the Bio.pairwise2 module.\n",
      "  warnings.warn(\n"
     ]
    },
    {
     "name": "stdout",
     "output_type": "stream",
     "text": [
      "Today: 250601\n",
      "\n",
      "Dorado path: /software/lab/ont/dorado/dorado-0.8.0-linux-x64/bin/dorado\n",
      "Samtools path: /software/lab/ont/samtools/samtools-1.21/samtools\n",
      "Chopper path: /software/lab/ont/chopper/v0.9/chopper\n",
      "Nanoq path: /software/lab/ont/nanoq/nanoq-0.10.0-x86_64-unknown-linux-musl/nanoq\n",
      "Minimap2 path: /software/lab/ont/minimap2/minimap2-2.28_x64-linux/minimap2\n",
      "Apptainer path where cutadapt is installed: /mnt/net/software/containers/users/jq01/spec/demuxing_w_conda.sif \n",
      "\n"
     ]
    }
   ],
   "source": [
    "import sys\n",
    "import os\n",
    "import glob\n",
    "import pandas as pd\n",
    "import numpy as np\n",
    "import re\n",
    "import time\n",
    "import textwrap\n",
    "from Bio import SeqIO\n",
    "from Bio import pairwise2\n",
    "import datetime\n",
    "from datetime import date; date_time_str=date.today().strftime('%Y%m%d')[2:]; print(f'Today: {date_time_str}\\n')\n",
    "import csv\n",
    "import seaborn as sns\n",
    "import matplotlib.pyplot as plt\n",
    "import matplotlib.ticker as ticker\n",
    "from IPython.display import display\n",
    "from statsmodels.distributions.empirical_distribution import ECDF\n",
    "import math\n",
    "\n",
    "## Import custom functions to sequencing reads analysis\n",
    "sys.path.append('/home/jq01/scripts')\n",
    "import wetlab_util_jq \n",
    "\n",
    "# Showing all entire cells in dataframe\n",
    "pd.set_option('display.max_rows', None)\n",
    "pd.set_option('display.max_columns', None)\n",
    "pd.set_option('display.max_colwidth', None)\n",
    "pd.set_option('display.width', None)\n",
    "\n",
    "%load_ext autoreload\n",
    "%autoreload 2\n",
    "%reload_ext autoreload \n",
    "wetlab_util_jq.check_ont_software_reqs() # showing the path of programs used for the sequencing reads processing"
   ]
  },
  {
   "cell_type": "markdown",
   "id": "c5199d06-ff65-4350-b6be-89587d3fc58d",
   "metadata": {
    "tags": []
   },
   "source": [
    "# Set Global Directories"
   ]
  },
  {
   "cell_type": "code",
   "execution_count": 2,
   "id": "cc8662ff-30e5-4bb2-a628-ec94bd211eb2",
   "metadata": {},
   "outputs": [
    {
     "name": "stdout",
     "output_type": "stream",
     "text": [
      "Echo transfer directory: /home/jq01/wetlab/sequencing/nanopore/250520_NH20_subpool2/250520_echo_transfer/\n"
     ]
    }
   ],
   "source": [
    "'''\n",
    "Define global directories from user provided inputs\n",
    "'''\n",
    "transfer_file_start_date = \"250520\"    # input date of demultiplexing experiment\n",
    "library_name = \"NH20_subpool2\"                  # custom name of experiment\n",
    "\n",
    "working_dir = f'/home/jq01/wetlab/sequencing/nanopore/{transfer_file_start_date}_{library_name}/' # Folder where demuxing experiment files are stored\n",
    "os.makedirs(f'{working_dir}',exist_ok=True)\n",
    "\n",
    "'''\n",
    "Define echo transfer directory\n",
    "'''\n",
    "echo_dir = f'{working_dir}{transfer_file_start_date}_echo_transfer/'                        # Folder where echo transfer files are output\n",
    "os.makedirs(f'{echo_dir}',exist_ok=True)\n",
    "print(f'Echo transfer directory: {echo_dir}')"
   ]
  },
  {
   "cell_type": "markdown",
   "id": "1fe7c7c5-67f2-451d-aec6-a0b0e7b36247",
   "metadata": {
    "tags": []
   },
   "source": [
    "# Generating Echo Transfer Files"
   ]
  },
  {
   "cell_type": "raw",
   "id": "8e0ec2f0-7a2d-4e48-bebe-96a666d75dc1",
   "metadata": {},
   "source": [
    "Generation Echo transfer files:\n",
    "\n",
    "0. Culture transfer - 384-well echo culture plates -> 1536-well echo plates\n",
    "\n",
    "1. Barcode transfer - 384-well echo barcode plate  -> 1536-well echo plates\n",
    "\n",
    "2. Water transfer   -  6-well echo plate           -> 1536-well echo plates\n",
    "\n",
    "3. GGA master mix transfer - 6-well echo plate     -> 1536-well echo plates"
   ]
  },
  {
   "cell_type": "markdown",
   "id": "4f6d80e7-5063-4c15-af01-55951eb3ca32",
   "metadata": {
    "tags": []
   },
   "source": [
    "### 0. Culture transfer"
   ]
  },
  {
   "cell_type": "code",
   "execution_count": null,
   "id": "0010c10d-041d-40f5-8078-bf628a0b6741",
   "metadata": {},
   "outputs": [],
   "source": [
    "# Generating echo file to compress cultures from 384 to 1536-well plates"
   ]
  },
  {
   "cell_type": "code",
   "execution_count": null,
   "id": "e9e56c6e-f4a1-4873-9d35-d3c1c7fc972a",
   "metadata": {},
   "outputs": [
    {
     "name": "stdout",
     "output_type": "stream",
     "text": [
      "source_384_01 A1 ---> dest_1536_01 A1\n",
      "source_384_02 A1 ---> dest_1536_01 I1\n",
      "source_384_03 A1 ---> dest_1536_01 Q1\n",
      "source_384_04 A1 ---> dest_1536_01 Y1\n",
      "source_384_05 A1 ---> dest_1536_02 A1\n",
      "source_384_06 A1 ---> dest_1536_02 I1\n",
      "source_384_07 A1 ---> dest_1536_02 Q1\n",
      "source_384_08 A1 ---> dest_1536_02 Y1\n",
      "source_384_09 A1 ---> dest_1536_03 A1\n",
      "source_384_10 A1 ---> dest_1536_03 I1\n",
      "source_384_11 A1 ---> dest_1536_03 Q1\n",
      "source_384_12 A1 ---> dest_1536_03 Y1\n",
      "source_384_13 A1 ---> dest_1536_04 A1\n",
      "source_384_14 A1 ---> dest_1536_04 I1\n",
      "source_384_15 A1 ---> dest_1536_04 Q1\n",
      "source_384_16 A1 ---> dest_1536_04 Y1\n",
      "source_384_17 A1 ---> dest_1536_05 A1\n",
      "source_384_18 A1 ---> dest_1536_05 I1\n",
      "source_384_19 A1 ---> dest_1536_05 Q1\n",
      "source_384_20 A1 ---> dest_1536_05 Y1\n",
      "Assertion passed. The number of rows in echo instructions is correct.\n",
      "Generated 7680 transfers across 5 destination plates.\n"
     ]
    }
   ],
   "source": [
    "# Generate instructions source plate and well to destination plate and well and volume\n",
    "\n",
    "# Define how many 384 culture plates and 1536-well destination plates\n",
    "no_source_plates = 20  # 384-well culture plates\n",
    "transfer_volume = 2000.0 # volume (nl) of culture to transfer from 384 -> 1536-well plates. Unit is in nanoliters because echo works in this unit, so volume = 1000 x number of ul \n",
    "\n",
    "# General function to generate well names (e.g., A1, B2, etc.) for 96, 384, or 1536-well plates.\n",
    "# input options:  \"96w_plate\", \"384w_plate\", \"1536w_plate\"\n",
    "source_wells_384 = wetlab_util_jq.generate_well_names('384w_plate') # for 384-well plate\n",
    "dest_wells_1536  = wetlab_util_jq.generate_well_names('1536w_plate') # for 1536-well plate\n",
    "\n",
    "# Calculate total source wells and required destination plates\n",
    "total_source_wells = no_source_plates * len(source_wells_384)\n",
    "no_dest_plates = math.ceil(total_source_wells / len(dest_wells_1536))  # 1536-well destination plates\n",
    "\n",
    "echo_instructions = []\n",
    "dest_counter = 0\n",
    "dest_p_no = 1\n",
    "dest_p = f\"dest_1536_{dest_p_no:02d}\"\n",
    "\n",
    "# loop over source plates number\n",
    "for source_p_no in range(1, no_source_plates+1):\n",
    "    source_p = f\"source_384_{source_p_no:02d}\"\n",
    "    \n",
    "    # loop over source well number\n",
    "    for source_idx, source_w in enumerate(source_wells_384):\n",
    "        if dest_counter == 1536:       # we are one index about plate size\n",
    "            dest_counter = 0\n",
    "            dest_p_no += 1\n",
    "        \n",
    "        dest_p = f\"dest_1536_{dest_p_no:02d}\"   # destination plate formatting with 2 decimal integers \"dest_1536_05\"\n",
    "        dest_w = dest_wells_1536[dest_counter]  # destination well \n",
    "        \n",
    "        if source_idx == 0:\n",
    "            print(source_p, source_w,  \"--->\", dest_p, dest_w )\n",
    "            \n",
    "        echo_instructions.append([source_p, source_w, dest_p, dest_w, transfer_volume])\n",
    "        dest_counter += 1\n",
    "\n",
    "assert len(echo_instructions) == total_source_wells, \"Mismatch in total source wells.\"\n",
    "assert len(echo_instructions) <= no_dest_plates * 1536, \"Exceeded available destination wells.\"\n",
    "print(\"Assertion passed. The number of rows in echo instructions is correct.\")\n",
    "print(f\"Generated {len(echo_instructions)} transfers across {no_dest_plates} destination plates.\")\n"
   ]
  },
  {
   "cell_type": "code",
   "execution_count": null,
   "id": "cdcff566-9b15-43d6-9d0e-a59beea2de8b",
   "metadata": {},
   "outputs": [
    {
     "name": "stdout",
     "output_type": "stream",
     "text": [
      "Culture transfer echo csv file is saved as: \n",
      "/home/jq01/wetlab/sequencing/nanopore/250520_NH20_subpool2/250520_echo_transfer/250520_step0_culture_transfer.csv \n",
      "\n"
     ]
    }
   ],
   "source": [
    "# Export culture transfer csv file into echo directory\n",
    "write = False\n",
    "\n",
    "file_name = date_time_str + \"_step0_culture_transfer\" + \".csv\"\n",
    "output_file = os.path.join(echo_dir, file_name)  # output directory and file_name\n",
    "\n",
    "if write:\n",
    "    with open(output_file, mode='w', newline='') as file:\n",
    "        writer = csv.writer(file)\n",
    "        writer.writerow([\"Source Plate Name\",\n",
    "                        \"Source Well\",\n",
    "                        \"Destination Plate Name\"\n",
    "                        ,\"Destination Well\",\n",
    "                        \"Transfer Volume\"]) # Column name needs this format for Echo compatibility\n",
    "        \n",
    "        for instr in echo_instructions:\n",
    "            writer.writerow(instr)\n",
    "        print(f'Culture transfer echo csv file is saved as: \\n{echo_dir}{file_name} \\n')"
   ]
  },
  {
   "cell_type": "markdown",
   "id": "d91674e2-ce5a-4c4d-89da-e4813936e6c4",
   "metadata": {
    "tags": []
   },
   "source": [
    "### 1. Barcode transfer"
   ]
  },
  {
   "cell_type": "code",
   "execution_count": null,
   "id": "e04e03e5-2e18-4e89-9044-c6064e03e4e0",
   "metadata": {},
   "outputs": [],
   "source": [
    "# Generating echo file to transfer daisy chain barcode combinations from source 384-well barcode plate to destination 1536-well plates"
   ]
  },
  {
   "cell_type": "code",
   "execution_count": null,
   "id": "ecd1cff9-0f5b-4cf6-add5-8d9eee23df2b",
   "metadata": {},
   "outputs": [],
   "source": [
    "# User inputs. These variable can be adjusted based on experiments\n",
    "\n",
    "# Remember that ech 384-well plate has a working volume of 20 - 65 ul!! So the dilution factor need to be within these volumes\n",
    "dilution_factor = 9  # Example, a dilution factor of 6 means 10 ul from stock bc + 50 ul of H20. \n",
    "mimimum_bc_conc = 120.0   # default mimimum barcode concentration (ng/ul)\n",
    "dna_per_bc = 2     # barcode (nanograms) to transfer to each well\n",
    "max_vol = 1000     # maximum barcode volume (nanoliters) + water to transfer to each well\n",
    "\n",
    "# Barcode exclusion list based on bad performance. Add any other barcodes you want to exclude. When using group 3 barcodes, always exlude:\n",
    "# 1_2, 1_8, 1_11, 1_13, 1_14, 1_15, 1_20, 1_26. \n",
    "exclusion_list = ['1_2',\n",
    "                  '1_8',\n",
    "                  '1_11',\n",
    "                  '1_13',\n",
    "                  '1_14',\n",
    "                  '1_15',\n",
    "                  '1_20',\n",
    "                  '1_26',\n",
    "                  '1_24', \n",
    "                  '2_12', \n",
    "                  '2_31', \n",
    "                  '3_32']"
   ]
  },
  {
   "cell_type": "code",
   "execution_count": null,
   "id": "66d7df9d-b623-4c09-9642-0e638869aa13",
   "metadata": {},
   "outputs": [
    {
     "name": "stdout",
     "output_type": "stream",
     "text": [
      "{'1_1': 'A1', '1_2': 'A3', '1_3': 'A5', '1_4': 'A7', '1_5': 'A9'}\n"
     ]
    }
   ],
   "source": [
    "# Map barcodes to well positions in a 384-well plate as a source plate for echo transfer\n",
    "\n",
    "no_bc_groups = 3      # number of barcode groups (BC1, BC2, BC3, BC4)\n",
    "bc_per_group = 32     # number of barcodes per group \n",
    "\n",
    "barcode_to_well_384 = wetlab_util_jq.map_barcodes_to_wells(no_bc_groups, bc_per_group)  # output is dictionary (key = barcode name and value = well position)\n",
    "\n",
    "# check dictionary is correct\n",
    "print(dict(list(barcode_to_well_384.items())[:5]))  # key : barcode name, value : one bc from each of bc_groups\n"
   ]
  },
  {
   "cell_type": "code",
   "execution_count": null,
   "id": "370b6e9e-5644-4358-8c16-c48732de0524",
   "metadata": {},
   "outputs": [],
   "source": [
    "# Generate well names (e.g., A1, B2, etc.) for 96, 384, or 1536-well plate formats\n",
    "# Input:  \"96w_plate\", \"384w_plate\", \"1536w_plate\"\n",
    "\n",
    "w96 = wetlab_util_jq.generate_well_names('96w_plate')  # well names for a single 96-well plate\n",
    "w96_multi = [str(plate)+ '_' + well for plate in range(1, 20) for well in w96] # well names for twenty 96-well plates\n",
    "\n",
    "w384 = wetlab_util_jq.generate_well_names('384w_plate') # well names for a single 384-well plate\n",
    "w384_multi = [str(plate)+ '_' + well for plate in range(1, 20) for well in w384] # well names for twenty 384-well plates\n",
    "\n",
    "w1536 = wetlab_util_jq.generate_well_names('1536w_plate') # well names for a single 1536-well plate\n",
    "w1536_multi = [str(plate)+ '_' + well for plate in range(1, 20) for well in w1536] # well names for twenty 1536-well plates"
   ]
  },
  {
   "cell_type": "code",
   "execution_count": null,
   "id": "95fb3d62-fa32-407b-94d9-4351845ed170",
   "metadata": {},
   "outputs": [
    {
     "name": "stdout",
     "output_type": "stream",
     "text": [
      "/net/expdata/Users/Baker_Lab/jasonqian/nanodrop/2024/240808_96_dmx_group3_barcode.txt\n"
     ]
    }
   ],
   "source": [
    "# Reformat dataframe and dilution of stock barcode miniprep plate \n",
    "\n",
    "bc_csv_path = \"/net/expdata/Users/Baker_Lab/jasonqian/nanodrop/2024/240808_96_dmx_group3_barcode.txt\" # path of BC nanodrop concentration file\n",
    "!ls {bc_csv_path} # check if the BC nanodrop concentration file is present\n",
    "mini_df = pd.read_csv(bc_csv_path, sep=\"\\t\", on_bad_lines=\"skip\" ) # load nanoedrop file as mini_df dataframe\n",
    "\n",
    "mini_df = mini_df.set_index('Well ', drop=False).reindex(w96)   # reindex the mini_df with well order as w96: A1, A2 etc instead of A1, B2..\n",
    "mini_df['Source Well'] = w384[0:192:2]    # Add a column called Source Well and matches 96w plate wells to 382w plate wells\n",
    "mini_df['concentration'] = mini_df['Conc. '] / dilution_factor # New concentration of BC plate. Dilute the entire barcode stock plate by dilution_factor set earlier\n",
    "\n",
    "# \"well_to_barcode\" uses dictionary comprehension to reverse the key-value pairs of the barcode_to_well_384 dictionary\n",
    "# barcode_to_well_384: keys = barcodes and values = well positions in a 384-well plate\n",
    "# well_to_barcode_384: keys = well positions and the values = the barcodes in a 384-well plate\n",
    "well_to_barcode_384 = {value:key for key,value in barcode_to_well_384.items()}  \n",
    "mini_df['bc'] = mini_df['Source Well'].map(well_to_barcode_384)\n",
    "\n",
    "#mini_df.loc['A5',:]   # optional check: selects the row with the index label 'A3' and returns all values for that row"
   ]
  },
  {
   "cell_type": "code",
   "execution_count": null,
   "id": "1afeeb6c-6b79-4971-a8c6-399c324e41fd",
   "metadata": {},
   "outputs": [
    {
     "data": {
      "image/png": "[encoded data removed]",
      "text/plain": [
       "<Figure size 400x200 with 2 Axes>"
      ]
     },
     "metadata": {},
     "output_type": "display_data"
    },
    {
     "data": {
      "image/png": "[encoded data removed]",
      "text/plain": [
       "<Figure size 300x300 with 1 Axes>"
      ]
     },
     "metadata": {},
     "output_type": "display_data"
    }
   ],
   "source": [
    "# Visualize concentration of stock barcode miniprep plate measured from nanodrop\n",
    "\n",
    "# Create a heatmap of BC concentration\n",
    "plt.figure(figsize=(4, 2))\n",
    "M = mini_df['Conc. '].to_numpy().reshape(8, 12)   # reshapes the concentration column of the dataframe to 8 rows and 12 columns\n",
    "row_labels = list('ABCDEFGH')  # Define row label\n",
    "column_labels = list(map(str, range(1, 13)))  # Define column label\n",
    "sns.heatmap(M, square=True, robust=True, annot=False, xticklabels=column_labels, yticklabels=row_labels)  # heatmap function. Square = makes each datapoint square, robust:  makes the color mapping more robust to outliers, annot: no annotations will be displayed in the heatmap cells\n",
    "plt.title('Heatmap of Stock Barcode Plate Concentration (ng/ul)')\n",
    "\n",
    "# Create a histogram BC concentration\n",
    "fig, ax = plt.subplots(figsize=(3, 3))  # Set figure size\n",
    "mini_df.hist('Conc. ', ax=ax)           # histogram function\n",
    "ax.set_xlabel('Concentration (ng/ul)')  # Define x-axis label for histogram\n",
    "ax.set_ylabel('Barcode count')  # Define y-axis label for histogram\n",
    "ax.set_title('Histogram of Stock Barcode Plate Concentration (ng/ul)')\n",
    "plt.show()"
   ]
  },
  {
   "cell_type": "code",
   "execution_count": null,
   "id": "dda868db-d835-478c-9d2f-af17e07e4b2c",
   "metadata": {},
   "outputs": [
    {
     "name": "stdout",
     "output_type": "stream",
     "text": [
      "Assertion passed. The number of rows in bc_df is correct.\n"
     ]
    },
    {
     "data": {
      "text/plain": [
       "84"
      ]
     },
     "execution_count": 11,
     "metadata": {},
     "output_type": "execute_result"
    }
   ],
   "source": [
    "# Generate dataframe for daisy chain combinations (4 barcodes / well) for echo transfer instructions\n",
    "\n",
    "no_of_well_in_1536 = 1536 # number of wells per 1536-well plate\n",
    "total_no_of_wells = no_dest_plates * no_of_well_in_1536  # total number of wells\n",
    "\n",
    "#mimimum_bc_conc = 120.0   # default mimimum barcode concentration (ng/ul)\n",
    "enough = mini_df[ mini_df['Conc. '] > mimimum_bc_conc ][\"bc\"].tolist()   # Only select barcodes that have high enough concentration from stock plate\n",
    "\n",
    "BC1 = [bc for bc in enough if '1_' in bc and bc not in exclusion_list]\n",
    "BC2 = [bc for bc in enough if '2_' in bc and bc not in exclusion_list]\n",
    "BC3 = [bc for bc in enough if '3_' in bc and bc not in exclusion_list]\n",
    "#BC4 = [bc for bc in enough if '4_' in bc and bc not in exclusion_list]\n",
    "\n",
    "#daisy_combos = [bc1 + ' ' + bc2 + ' ' +  bc3 + ' ' + bc4 for bc1 in BC1 for bc2 in BC2 for bc3 in BC3 for bc4 in BC4]\n",
    "daisy_combos = [bc1 + ' ' + bc2 + ' ' +  bc3  for bc1 in BC1 for bc2 in BC2 for bc3 in BC3]\n",
    "shuffled = np.random.choice(daisy_combos, size=len(daisy_combos), replace=False)   # shuffle without replacement\n",
    "\n",
    "bc_df = pd.DataFrame(columns=['bc', 'destw'])     # create new dataframe with columns \"bc\" and \"destination well\"\n",
    "bc_df.loc[:, 'bc'] = shuffled[:total_no_of_wells] # set column \"bc\" row values as shuffled barcodes until it hits total no of wells limit\n",
    "bc_df.loc[:, 'destw'] =  w1536_multi[:total_no_of_wells] # set column \"destw\" row values as 1536-well names until it hits total no of wells limit\n",
    "bc_df['Destination Well'] = bc_df['destw'].apply(lambda x: x.split('_')[1]) # Takes each value in the destw column and splits the string x by the underscore character _, and returns the second part of the split string (at index 1)\n",
    "bc_df['Destination Plate Name'] = bc_df['destw'].apply(lambda x: x.split('_')[0]) # Takes each value in the destw column and splits the string x by the underscore character _, and returns the first part of the split string (at index 1)\n",
    "\n",
    "assert len(bc_df) == total_no_of_wells\n",
    "print(\"Assertion passed. The number of rows in bc_df is correct.\")\n",
    "#bc_df.tail()\n",
    "bc_df.head(1)\n",
    "#len(BC1) + len(BC2) + len(BC3) + len(BC4)\n",
    "len(BC1) + len(BC2) + len(BC3)"
   ]
  },
  {
   "cell_type": "code",
   "execution_count": null,
   "id": "844ab617-2c6e-4783-bdb2-866b20fe7923",
   "metadata": {},
   "outputs": [
    {
     "data": {
      "application/vnd.microsoft.datawrangler.viewer.v0+json": {
       "columns": [
        {
         "name": "index",
         "rawType": "int64",
         "type": "integer"
        },
        {
         "name": "Source Plate Name",
         "rawType": "object",
         "type": "string"
        },
        {
         "name": "Source Well",
         "rawType": "object",
         "type": "string"
        },
        {
         "name": "Destination Plate Name",
         "rawType": "object",
         "type": "string"
        },
        {
         "name": "Destination Well",
         "rawType": "object",
         "type": "string"
        },
        {
         "name": "Transfer Volume",
         "rawType": "float64",
         "type": "float"
        }
       ],
       "conversionMethod": "pd.DataFrame",
       "ref": "09306e07-ef31-412b-8f7f-88a3bde296ef",
       "rows": [
        [
         "0",
         "daisy_barcodes",
         "B9",
         "1",
         "A1",
         "59.88023952095807"
        ],
        [
         "1",
         "daisy_barcodes",
         "C23",
         "1",
         "A1",
         "49.36917169500823"
        ],
        [
         "2",
         "daisy_barcodes",
         "F13",
         "1",
         "A1",
         "68.72852233676977"
        ],
        [
         "3",
         "water_fillup",
         "A1",
         "1",
         "A1",
         "822.0220664472639"
        ],
        [
         "4",
         "daisy_barcodes",
         "B13",
         "1",
         "A2",
         "53.27019828351583"
        ]
       ],
       "shape": {
        "columns": 5,
        "rows": 5
       }
      },
      "text/html": [
       "<div>\n",
       "<style scoped>\n",
       "    .dataframe tbody tr th:only-of-type {\n",
       "        vertical-align: middle;\n",
       "    }\n",
       "\n",
       "    .dataframe tbody tr th {\n",
       "        vertical-align: top;\n",
       "    }\n",
       "\n",
       "    .dataframe thead th {\n",
       "        text-align: right;\n",
       "    }\n",
       "</style>\n",
       "<table border=\"1\" class=\"dataframe\">\n",
       "  <thead>\n",
       "    <tr style=\"text-align: right;\">\n",
       "      <th></th>\n",
       "      <th>Source Plate Name</th>\n",
       "      <th>Source Well</th>\n",
       "      <th>Destination Plate Name</th>\n",
       "      <th>Destination Well</th>\n",
       "      <th>Transfer Volume</th>\n",
       "    </tr>\n",
       "  </thead>\n",
       "  <tbody>\n",
       "    <tr>\n",
       "      <th>0</th>\n",
       "      <td>daisy_barcodes</td>\n",
       "      <td>B9</td>\n",
       "      <td>1</td>\n",
       "      <td>A1</td>\n",
       "      <td>59.880240</td>\n",
       "    </tr>\n",
       "    <tr>\n",
       "      <th>1</th>\n",
       "      <td>daisy_barcodes</td>\n",
       "      <td>C23</td>\n",
       "      <td>1</td>\n",
       "      <td>A1</td>\n",
       "      <td>49.369172</td>\n",
       "    </tr>\n",
       "    <tr>\n",
       "      <th>2</th>\n",
       "      <td>daisy_barcodes</td>\n",
       "      <td>F13</td>\n",
       "      <td>1</td>\n",
       "      <td>A1</td>\n",
       "      <td>68.728522</td>\n",
       "    </tr>\n",
       "    <tr>\n",
       "      <th>3</th>\n",
       "      <td>water_fillup</td>\n",
       "      <td>A1</td>\n",
       "      <td>1</td>\n",
       "      <td>A1</td>\n",
       "      <td>822.022066</td>\n",
       "    </tr>\n",
       "    <tr>\n",
       "      <th>4</th>\n",
       "      <td>daisy_barcodes</td>\n",
       "      <td>B13</td>\n",
       "      <td>1</td>\n",
       "      <td>A2</td>\n",
       "      <td>53.270198</td>\n",
       "    </tr>\n",
       "  </tbody>\n",
       "</table>\n",
       "</div>"
      ],
      "text/plain": [
       "  Source Plate Name Source Well Destination Plate Name Destination Well  \\\n",
       "0    daisy_barcodes          B9                      1               A1   \n",
       "1    daisy_barcodes         C23                      1               A1   \n",
       "2    daisy_barcodes         F13                      1               A1   \n",
       "3      water_fillup          A1                      1               A1   \n",
       "4    daisy_barcodes         B13                      1               A2   \n",
       "\n",
       "   Transfer Volume  \n",
       "0        59.880240  \n",
       "1        49.369172  \n",
       "2        68.728522  \n",
       "3       822.022066  \n",
       "4        53.270198  "
      ]
     },
     "execution_count": 12,
     "metadata": {},
     "output_type": "execute_result"
    }
   ],
   "source": [
    "# Generate dataframe for daisy chaining barcodes and water\n",
    "\n",
    "echo_dict = {\n",
    "    'Source Plate Name':[],\n",
    "    'Source Well':[],\n",
    "    'Destination Plate Name':[],\n",
    "    'Destination Well':[],\n",
    "    'Transfer Volume':[],\n",
    "    }\n",
    "\n",
    "new_mini_df = mini_df.set_index('bc', inplace=False) # 'bc' column is used as the index. it's easier to access rows more conveniently\n",
    "\n",
    "for index, row in bc_df.iterrows():   # index will hold the index of the current row, and row will be a Series containing the data of the current row.\n",
    "    #bc1, bc2, bc3, bc4 = row['bc'].split()  # separate the barcodes, because they are separate by space \"1_24 2_4 3_14 4_1\"\n",
    "    bc1, bc2, bc3 = row['bc'].split() \n",
    "    tot_vol = 0             # sum of all the barcode volume per well\n",
    "    \n",
    "    # Generate final instructions for daisy chaining barcodes\n",
    "    #bcs = [bc1, bc2, bc3, bc4]\n",
    "    bcs = [bc1, bc2, bc3]\n",
    "    for bc in bcs:\n",
    "        echo_dict['Source Plate Name'].append('daisy_barcodes')    # source plate name which is the 384 barcode plate\n",
    "        echo_dict['Source Well'].append(new_mini_df.loc[bc, 'Source Well'])      # get well of barcode source plate\n",
    "        echo_dict['Destination Plate Name'].append(row['Destination Plate Name']) # get plate number of destination plate\n",
    "        echo_dict['Destination Well'].append(row['Destination Well'])    # get well of destination plate \n",
    "        vol = 1000 * dna_per_bc / new_mini_df.loc[bc, 'concentration']   # volume of barcode to transfer in nanoliters to each well = na_per_bc (ng) / (ng / 1000 (nl)). \n",
    "        tot_vol += vol\n",
    "        echo_dict['Transfer Volume'].append(vol)\n",
    "        \n",
    "    # Generate instructions for with water_fillup for buffer correction\n",
    "    echo_dict['Source Plate Name'].append('water_fillup')         # source plate name which is a 6-well reservoir plate\n",
    "    echo_dict['Source Well'].append('A1')                         # Hard code on A1 of the 6-well reservoir plate\n",
    "    echo_dict['Destination Plate Name'].append(row['Destination Plate Name']) # get plate number of destination plate\n",
    "    echo_dict['Destination Well'].append(row['Destination Well'])             # get well of destination plate \n",
    "    water_fillup_vol = max_vol - tot_vol                                 # volume of water to transfer in nanoliters to each well. \n",
    "    echo_dict['Transfer Volume'].append(water_fillup_vol) \n",
    "                    \n",
    "echo_df = pd.DataFrame(echo_dict)   # convert echo_dict dictionary to a dataframe\n",
    "echo_df.head()"
   ]
  },
  {
   "cell_type": "code",
   "execution_count": null,
   "id": "8384fdb7-c77e-4863-b0de-38c4c9bb970a",
   "metadata": {},
   "outputs": [
    {
     "name": "stdout",
     "output_type": "stream",
     "text": [
      "Assertion passed. There are 0 barcodes that have transfers less than 25 nl.\n"
     ]
    }
   ],
   "source": [
    "# Check barcodes that are super concentrated and have droplets less than 25 nl\n",
    "\n",
    "# If the dataframe is displayed, the below variables mean:\n",
    "# count: number of times the bc is used\n",
    "# max/mean : volume in nl the barcode is used for each destination well\n",
    "\n",
    "bc_less_than_25nl = echo_df[(echo_df['Source Plate Name']=='daisy_barcodes') & (echo_df['Transfer Volume'] < 25)].groupby('Source Well').describe()\n",
    "\n",
    "if len(bc_less_than_25nl) == 0:\n",
    "    print(f\"Assertion passed. There are {len(bc_less_than_25nl)} barcodes that have transfers less than 25 nl.\")\n",
    "else: \n",
    "    print(f\"There are {len(bc_less_than_25nl)} barcodes that have transfers less than 25 nl. Please increase your dilution_factor variable\")\n",
    "    display(bc_less_than_25nl)"
   ]
  },
  {
   "cell_type": "code",
   "execution_count": null,
   "id": "d5dab83d-622d-4b3e-868a-0d9cf3f03474",
   "metadata": {},
   "outputs": [
    {
     "data": {
      "image/png": "[encoded data removed]",
      "text/plain": [
       "<Figure size 500x250 with 1 Axes>"
      ]
     },
     "metadata": {},
     "output_type": "display_data"
    }
   ],
   "source": [
    "# Check distribution of each barcode transfer volume per well\n",
    "# Check that most barcodes are above the minimum volume of 25 nl for droplet in echo\n",
    "\n",
    "fig, ax = plt.subplots(figsize=(5, 2.5))  # Set figure size\n",
    "echo_df[echo_df['Source Plate Name']=='daisy_barcodes'].hist('Transfer Volume', bins=20, ax=ax)\n",
    "ax.set_xlabel('Vol of each barcode transfered per dest well (nl)')\n",
    "ax.set_ylabel('Count aggregate for all barcodes')\n",
    "ax.set_title('Volume of BC transfer size (nl) per dest well')\n",
    "ax.axvline(x=25, color='red', linestyle='--', linewidth=2)\n",
    "plt.show()"
   ]
  },
  {
   "cell_type": "code",
   "execution_count": null,
   "id": "71b28a74-4871-45d0-b633-745f304f9819",
   "metadata": {},
   "outputs": [
    {
     "name": "stdout",
     "output_type": "stream",
     "text": [
      "\n",
      " There is enough diluted barcode volume for all the barcode transfers. \n",
      " The most used barcode is D3 with 33 ul. Its remaining volume after all transfers is 26 ul.\n",
      "\n",
      " Instructions for barocde 384-well plate preparation: \n",
      " Take 10 ul of stock barcode and dilute with 80 ul of H20, BUT ONLY PIPETTE 60 ul INTO 384-echo PLATE FOR THE ECHO TRANSFERS! Do this dilution with multichannel for all 96 barcodes.\n"
     ]
    }
   ],
   "source": [
    "# Check that the total transfer volume for each barcode does not exceed 40 ul (Echo specs: 20 ul dead volume - 60 ul max).\n",
    "# Alternatively, check that remaining volume for each barcodes is not below 20 ul, the dead volume\n",
    "# because the usable volume for each well in echo 384-well plate is 20 - 65 ul, so we need set the working volume to be 20 - 60 ul!\n",
    "\n",
    "bc_vol_used = echo_df[echo_df['Source Plate Name'] == 'daisy_barcodes'] \\\n",
    "    .groupby('Source Well') \\\n",
    "    .sum(numeric_only=True) \\\n",
    "    .sort_values('Transfer Volume', ascending=False) \\\n",
    "    * 1e-3 # convert to ul\n",
    "\n",
    "max_bc_vol = 60 # Max volume that a well from 384 well plate can take 60 ul\n",
    "\n",
    "bc_vol_used['remaining_bc_volume_after_transfer (ul)'] = bc_vol_used['Transfer Volume'].apply(lambda x: max_bc_vol - x) # calculate volume remaining for each bc after transfers\n",
    "\n",
    "most_vol_bc_name = bc_vol_used.index[0]\n",
    "most_vol_bc = int(bc_vol_used.iloc[0][[\"Transfer Volume\"]])\n",
    "most_vol_bc_remain_vol = int(bc_vol_used.iloc[0][[\"remaining_bc_volume_after_transfer (ul)\"]])\n",
    "\n",
    "\n",
    "if any(bc_vol_used['remaining_bc_volume_after_transfer (ul)'] < 20):\n",
    "    # Print the rows where the remaining volume is less than 20\n",
    "    print(\"Assertion failed. Please decrease dilution_factor variable or increase mimimum_bc_conc variable\")    # default is 120 ng/ul. If need to increase, then try 130 or higher\n",
    "    display(bc_vol_used[bc_vol_used['remaining_bc_volume_after_transfer (ul)'] < 20])\n",
    "else:\n",
    "    print(f\"\\n There is enough diluted barcode volume for all the barcode transfers. \\n \\\n",
    "The most used barcode is {most_vol_bc_name} with {most_vol_bc} ul. \\\n",
    "Its remaining volume after all transfers is {most_vol_bc_remain_vol} ul.\\\n",
    "\\n\\n Instructions for barocde 384-well plate preparation: \\n Take 10 ul of stock barcode and dilute with {(dilution_factor - 1)*10} ul of H20, BUT ONLY PIPETTE 60 ul INTO 384-echo PLATE FOR THE ECHO TRANSFERS! Do this dilution with multichannel for all 96 barcodes.\")\n",
    "    "
   ]
  },
  {
   "cell_type": "code",
   "execution_count": null,
   "id": "a25996f7-5215-4862-9f38-ba847244eb21",
   "metadata": {},
   "outputs": [],
   "source": [
    "# Export daisy chain transfer csv file into echo directory\n",
    "write = False\n",
    "\n",
    "name_daisy = 'daisy_barcodes'\n",
    "sub_daisy = echo_df.groupby('Source Plate Name').get_group(name_daisy)    # get all the rows and values for daisy_barcodes\n",
    "file_name = f'{date_time_str}_step1_{name_daisy}.csv'\n",
    "output_file = os.path.join(echo_dir, file_name)\n",
    "\n",
    "if write:\n",
    "    wetlab_util_jq.export_to_csv(sub_daisy,output_file)\n",
    "    #sub_daisy.head()"
   ]
  },
  {
   "cell_type": "markdown",
   "id": "e92b04dd-0197-41e7-b176-4a5b74fa50dc",
   "metadata": {
    "tags": []
   },
   "source": [
    "### 2. Water transfer"
   ]
  },
  {
   "cell_type": "code",
   "execution_count": null,
   "id": "a04318cb-d29c-48d5-b792-66ad011e843d",
   "metadata": {},
   "outputs": [
    {
     "name": "stdout",
     "output_type": "stream",
     "text": [
      "Total water fillup volume needed: 6163 ul\n"
     ]
    },
    {
     "data": {
      "application/vnd.microsoft.datawrangler.viewer.v0+json": {
       "columns": [
        {
         "name": "Source Well",
         "rawType": "object",
         "type": "string"
        },
        {
         "name": "Transfer Volume",
         "rawType": "float64",
         "type": "float"
        }
       ],
       "conversionMethod": "pd.DataFrame",
       "ref": "1bd539ab-8edb-496d-8472-c07ea61e3830",
       "rows": [
        [
         "A1",
         "1999791.9917180918"
        ],
        [
         "A2",
         "2000643.4142147305"
        ],
        [
         "A3",
         "2000420.5718310596"
        ],
        [
         "B1",
         "162255.29714049853"
        ]
       ],
       "shape": {
        "columns": 1,
        "rows": 4
       }
      },
      "text/html": [
       "<div>\n",
       "<style scoped>\n",
       "    .dataframe tbody tr th:only-of-type {\n",
       "        vertical-align: middle;\n",
       "    }\n",
       "\n",
       "    .dataframe tbody tr th {\n",
       "        vertical-align: top;\n",
       "    }\n",
       "\n",
       "    .dataframe thead th {\n",
       "        text-align: right;\n",
       "    }\n",
       "</style>\n",
       "<table border=\"1\" class=\"dataframe\">\n",
       "  <thead>\n",
       "    <tr style=\"text-align: right;\">\n",
       "      <th></th>\n",
       "      <th>Transfer Volume</th>\n",
       "    </tr>\n",
       "    <tr>\n",
       "      <th>Source Well</th>\n",
       "      <th></th>\n",
       "    </tr>\n",
       "  </thead>\n",
       "  <tbody>\n",
       "    <tr>\n",
       "      <th>A1</th>\n",
       "      <td>1.999792e+06</td>\n",
       "    </tr>\n",
       "    <tr>\n",
       "      <th>A2</th>\n",
       "      <td>2.000643e+06</td>\n",
       "    </tr>\n",
       "    <tr>\n",
       "      <th>A3</th>\n",
       "      <td>2.000421e+06</td>\n",
       "    </tr>\n",
       "    <tr>\n",
       "      <th>B1</th>\n",
       "      <td>1.622553e+05</td>\n",
       "    </tr>\n",
       "  </tbody>\n",
       "</table>\n",
       "</div>"
      ],
      "text/plain": [
       "             Transfer Volume\n",
       "Source Well                 \n",
       "A1              1.999792e+06\n",
       "A2              2.000643e+06\n",
       "A3              2.000421e+06\n",
       "B1              1.622553e+05"
      ]
     },
     "execution_count": 17,
     "metadata": {},
     "output_type": "execute_result"
    }
   ],
   "source": [
    "# Generate dataframe for water fillup to be used for echo transfer instructions\n",
    "\n",
    "# Make sure that the water_fillup volume from 6-well reservoir is not above 2500 ul\n",
    "# Echo specs: \n",
    "# Number of wells: 6\n",
    "# Maximum volume: 2500 uL. We set the max volume to be 2000 ul to be safe.\n",
    "# Dead volume: 250 µL\n",
    "# Usable volume: 2250 uL\n",
    "\n",
    "print(f\"Total water fillup volume needed: {int(echo_df[echo_df['Source Plate Name']=='water_fillup']['Transfer Volume'].sum() * 1e-3)} ul\")\n",
    "\n",
    "buff_vol = 0\n",
    "buff_wells = wetlab_util_jq.generate_well_names('6w_plate') # generate names for 6-well plate = ['A1', 'A2', 'A3', 'B1', 'B2', 'B3']\n",
    "buff_idx = 0\n",
    "\n",
    "for index, row in echo_df.iterrows():\n",
    "    \n",
    "    if row['Source Plate Name'] == 'water_fillup':\n",
    "        \n",
    "        buff_vol += row['Transfer Volume']\n",
    "        \n",
    "        if buff_vol >= 2e6:   # set the max volume at 2000 ul instead of 2500 ul to be safe\n",
    "            buff_idx += 1       # if it hits 2100 ul, then move to next index in buff_wells \n",
    "            buff_vol = 0\n",
    "\n",
    "        echo_df.loc[index, 'Source Well'] = buff_wells[buff_idx]\n",
    "        \n",
    "echo_df[echo_df['Source Plate Name']=='water_fillup'].groupby('Source Well').sum(numeric_only=True)\n",
    "#echo_df[echo_df['Source Plate Name']=='water_fillup']"
   ]
  },
  {
   "cell_type": "code",
   "execution_count": null,
   "id": "3d485137-084b-45bd-9fb7-2d272873e022",
   "metadata": {},
   "outputs": [],
   "source": [
    "# Export water fill transfer csv file into echo directory\n",
    "write = False\n",
    "\n",
    "name_water = 'water_fillup'\n",
    "sub_water = echo_df.groupby('Source Plate Name').get_group(name_water)\n",
    "file_name = f'{date_time_str}_step2_{name_water}.csv'\n",
    "output_file = os.path.join(echo_dir, file_name)\n",
    "\n",
    "if write: \n",
    "    wetlab_util_jq.export_to_csv(sub_water,output_file)"
   ]
  },
  {
   "cell_type": "code",
   "execution_count": null,
   "id": "0129509c-45e3-4926-b612-f708032e5aeb",
   "metadata": {},
   "outputs": [],
   "source": [
    "## Use this if you need to fish out specific wells that failed\n",
    "\n",
    "# barcode_df = echo_df[echo_df['Source Plate Name'] == 'barcode']\n",
    "# barcode_df\n",
    "# desired_wells = [\"A1\", \"A5\", \"A7\", \"A9\", \"A11\", \"A13\", \"A15\", \"A17\", \"A19\", \"A21\", \"D15\"]\n",
    "# final_df = barcode_df[barcode_df['Source Well'].isin(desired_wells)]\n",
    "\n",
    "# output_file = date_time_str + \"_fixed_rowA_bc\" + \".csv\"\n",
    "# final_df.to_csv(output_file, index=False)"
   ]
  },
  {
   "cell_type": "markdown",
   "id": "3a65a26d-370e-4ba9-bee1-8987bb4009bc",
   "metadata": {
    "tags": []
   },
   "source": [
    "### 3. GGA master mix transfer"
   ]
  },
  {
   "cell_type": "code",
   "execution_count": null,
   "id": "788f7688-e722-4b75-99c0-791ae718e155",
   "metadata": {},
   "outputs": [
    {
     "name": "stdout",
     "output_type": "stream",
     "text": [
      "Total GGA mastermix volume needed: 4800 ul\n"
     ]
    }
   ],
   "source": [
    "# Calculate total GGA mastermix volume \n",
    "\n",
    "gga_mm_per_reaction = 0.5 # (ul)\n",
    "t4_ligase_buffer = 0.35 # (ul) \n",
    "bsai = 0.06  # (ul)\n",
    "salt_t4 = 0.1   # (ul)\n",
    "h20 = gga_mm_per_reaction - (t4_ligase_buffer + bsai + salt_t4)  # (ul)\n",
    "\n",
    "# GGA mastermix volume for all 1536 plates\n",
    "total_wells = total_no_of_wells * 1.25   # total number of well + 25% more to account for dead volumes\n",
    "\n",
    "total_t4_ligase_buffer = t4_ligase_buffer * total_wells\n",
    "total_bsai = bsai * total_wells\n",
    "total_salt_t4 = salt_t4 * total_wells\n",
    "total_h20 = h20 * total_wells\n",
    "gga_mm_total = total_t4_ligase_buffer + total_bsai + total_salt_t4 + total_h20\n",
    "\n",
    "#assert int(total_wells) == gga_mm_total\n",
    "print(f'Total GGA mastermix volume needed: {int(gga_mm_total)} ul')"
   ]
  },
  {
   "cell_type": "code",
   "execution_count": null,
   "id": "a08254cd-94f0-4906-9e63-5b2eea90900b",
   "metadata": {},
   "outputs": [
    {
     "name": "stdout",
     "output_type": "stream",
     "text": [
      "Distribution of total GGA mastermix among wells:\n",
      "Well A1: 2000 µL\n",
      "Well A2: 2000 µL\n",
      "Well A3: 800.0 µL\n",
      "Well B1: 0 µL\n",
      "Well B2: 0 µL\n",
      "Well B3: 0 µL\n"
     ]
    }
   ],
   "source": [
    "# Distribute GGA mastermix volume into 6-well echo reservoir\n",
    "\n",
    "# Make sure that the GGA volume from 6-well reservoir is not above 2500 ul\n",
    "# Echo specs: \n",
    "# Number of wells: 6\n",
    "# Maximum volume: 2500 uL. We set the max volume to be 2000 ul to be safe.\n",
    "# Dead volume: 250 µL\n",
    "# Usable volume: 2250 uL\n",
    "\n",
    "max_well_volume = 2000  # Max volume set to 2000 µL to be safe\n",
    "buff_wells = wetlab_util_jq.generate_well_names('6w_plate') # generate names for 6-well plate\n",
    "\n",
    "# Initialize variables\n",
    "buff_vol = 0\n",
    "buff_idx = 0\n",
    "well_distribution = {well: 0 for well in buff_wells}\n",
    "\n",
    "# Distribute the total volume among the wells\n",
    "remaining_volume = gga_mm_total\n",
    "\n",
    "while remaining_volume > 0:\n",
    "    available_volume = min(remaining_volume, max_well_volume - well_distribution[buff_wells[buff_idx]])\n",
    "    well_distribution[buff_wells[buff_idx]] += available_volume\n",
    "    remaining_volume -= available_volume\n",
    "    \n",
    "    if well_distribution[buff_wells[buff_idx]] >= max_well_volume:\n",
    "        buff_idx += 1\n",
    "        if buff_idx >= len(buff_wells):\n",
    "            break  # Stop if we've run out of wells\n",
    "\n",
    "print(\"Distribution of total GGA mastermix among wells:\")\n",
    "for well, volume in well_distribution.items():\n",
    "    print(f\"Well {well}: {volume } µL\")  # Convert back to µL for display"
   ]
  },
  {
   "cell_type": "code",
   "execution_count": null,
   "id": "a23edd3c-719b-4500-8e88-465175d7ea0b",
   "metadata": {},
   "outputs": [
    {
     "name": "stdout",
     "output_type": "stream",
     "text": [
      "Assertion passed. The number of 7680 rows in echo instructions is correct.\n"
     ]
    }
   ],
   "source": [
    "# Generate GGA mastermix transfer instructions source plate and well to destination plate and well and volume\n",
    "transfer_volume = gga_mm_per_reaction * 1000  # convert to (nl) of gga mix volume to transfer to each well in destination plate\n",
    "dest_wells_1536 = wetlab_util_jq.generate_well_names('1536w_plate') # generate names for 1536-well plate\n",
    "\n",
    "# Initialize the instructions list\n",
    "echo_instructions = []\n",
    "dest_counter = 0\n",
    "dest_p_no = 1\n",
    "\n",
    "# Loop over source wells based on the provided well distribution\n",
    "for source_w, total_volume in well_distribution.items():\n",
    "    total_volume = total_volume * 1000           # convert to nl\n",
    "    remaining_volume = total_volume\n",
    "    while remaining_volume > 250000:                 # Move to next item when the remaining volume reaches the 250 ul deadvolume\n",
    "        if dest_counter == 1536:  # Move to next destination plate\n",
    "            dest_counter = 0\n",
    "            dest_p_no += 1\n",
    "            \n",
    "        if dest_p_no > no_dest_plates:  # Break if we've reached the maximum number of destination plates\n",
    "            break\n",
    "                \n",
    "        dest_p = f\"dest_1536_{dest_p_no:02d}\"  # Destination plate name\n",
    "        dest_w = dest_wells_1536[dest_counter]  # Destination well name\n",
    "\n",
    "        echo_instructions.append([f\"gga_mix\", source_w, dest_p, dest_w, transfer_volume])\n",
    "        remaining_volume -= transfer_volume\n",
    "        dest_counter += 1\n",
    "\n",
    "#echo_instructions\n",
    "assert len(echo_instructions) == no_dest_plates*1536\n",
    "print(f\"Assertion passed. The number of {len(echo_instructions)} rows in echo instructions is correct.\")"
   ]
  },
  {
   "cell_type": "code",
   "execution_count": null,
   "id": "af2322b2-5534-41c3-bc70-36b5b0981463",
   "metadata": {},
   "outputs": [
    {
     "name": "stdout",
     "output_type": "stream",
     "text": [
      "GGA mix transfer echo csv file is saved as: \n",
      "/home/jq01/wetlab/sequencing/nanopore/250520_NH20_subpool2/250520_echo_transfer/250520_step3_gga_mix.csv \n",
      "\n"
     ]
    }
   ],
   "source": [
    "# Export GGA mastermix transfer csv file into echo directory\n",
    "write = False\n",
    "\n",
    "file_name = date_time_str + \"_step3_gga_mix\" + \".csv\"\n",
    "output_file = os.path.join(echo_dir, file_name)  # output directory and file_name\n",
    "\n",
    "if write: \n",
    "    with open(output_file, mode='w', newline='') as file:\n",
    "        writer = csv.writer(file)\n",
    "        writer.writerow([\"Source Plate Name\",\n",
    "                        \"Source Well\",\n",
    "                        \"Destination Plate Name\"\n",
    "                        ,\"Destination Well\",\n",
    "                        \"Transfer Volume\"]) # Column name needs this format for Echo compatibility\n",
    "        \n",
    "        for instr in echo_instructions:\n",
    "            writer.writerow(instr)\n",
    "        print(f'GGA mix transfer echo csv file is saved as: \\n{echo_dir}{file_name} \\n')"
   ]
  },
  {
   "cell_type": "markdown",
   "id": "af42344c-46fa-4501-9349-a6c76ef02d53",
   "metadata": {
    "tags": []
   },
   "source": [
    "# Demultiplexing"
   ]
  },
  {
   "cell_type": "raw",
   "id": "faea1c9c-8b2f-413e-97bf-eefc9993c570",
   "metadata": {
    "tags": []
   },
   "source": [
    "Steps for processing ONT sequencing reads:\n",
    "\n",
    "0. Basecalling - convert pod5 to bam (dorado)\n",
    "\n",
    "1. Filtering - Merge chunked bam files into single one (samtools)\n",
    "               Convert merged bam to fastq (samtools)\n",
    "               Filter passed reads based on quality (chopper)\n",
    "               Output a filtering report (nanoq)\n",
    "\n",
    "2. Demultiplexing (cutadapt/samtools)\n",
    "\n",
    "3. Aligning reads to reference sequences and generate consensus sequence (minimap2/samtools)\n",
    "\n",
    "All these steps have been optimized for parallel submission onto the digs\n",
    "Step 0 uses GPU, Steps 1-3 uses CPU."
   ]
  },
  {
   "cell_type": "markdown",
   "id": "b07733b0-eaa1-4a79-9f7b-b67cf7b5e359",
   "metadata": {
    "tags": []
   },
   "source": [
    "### Setting Directories"
   ]
  },
  {
   "cell_type": "code",
   "execution_count": null,
   "id": "27c3c98a-fe9e-47ae-b766-c7ffe7470713",
   "metadata": {},
   "outputs": [],
   "source": [
    "############################################################\n",
    "# IMPORTANT: files to copy to reference folder: \n",
    "# 1. Reference 96 BC (96_bc_demux.csv) (csv format) \n",
    "# 2. Reference DNA design sequences (fasta format)\n",
    "# 3. Reference 384 to 1536 wells from echo file (csv format) # to remove\n",
    "#############################################################"
   ]
  },
  {
   "cell_type": "code",
   "execution_count": 3,
   "id": "f39ceab8-9e39-457e-950c-69dc15f0adbc",
   "metadata": {},
   "outputs": [],
   "source": [
    "'''\n",
    "Define directories from user provided inputs\n",
    "'''\n",
    "# change this date for each experiment\n",
    "seq_start_date = \"250528\"\n",
    "\n",
    "sequencing_dir = f'{working_dir}{seq_start_date}_sequencing/'            # Folder processed sequencing data is output\n",
    "os.makedirs(f'{sequencing_dir}',exist_ok=True)\n",
    "\n",
    "raw_seq_data_dir = f'/projects/sequencing/MinION/{seq_start_date}_{library_name}/' # Folder where pod5 raw files are stored from sequencing\n",
    "\n",
    "output_dir = f'/net/scratch/jq01/demuxing/{seq_start_date}_{library_name}_sequencing/' # Folder where large intermediate file is output in scratch\n",
    "os.makedirs(f'{output_dir}',exist_ok=True)\n",
    "\n",
    "reference_dir = f'{sequencing_dir}reference/' # Folder where barcode and reference files are stored\n",
    "os.makedirs(f'{reference_dir}',exist_ok=True)\n",
    "\n",
    "ref_96_bc = f'{reference_dir}24071396_three_BC_demux.csv' # Reference 96 barcodes from which daisy chained barcode combinations are constructed\n",
    "ref_library = f'{reference_dir}20250414_NH20_subpool2.fasta'              # Reference library of your design\n",
    "combo_bc = f'{echo_dir}250520_step1_daisy_barcodes.csv'         # The daisy chained combinations of 4 barcodes were used for this experiment\n",
    "mapping_384_to_1536_wells = f'{echo_dir}250520_step0_culture_transfer.csv' # The transfer of 384-well cultured plates matched to 1536-well plates file\n",
    "\n",
    "# # List of files to check\n",
    "files_to_check = [ref_96_bc, ref_library]\n",
    "\n",
    "# Check if the files exist and prompt if any file is missing\n",
    "for file_path in files_to_check:\n",
    "    if not os.path.exists(file_path):\n",
    "        file_name = os.path.basename(file_path)\n",
    "        print(f\"File '{file_name}' does not exist.\")\n",
    "        print(f'Please copy the missing file into the {reference_dir} folder.\\n')"
   ]
  },
  {
   "cell_type": "code",
   "execution_count": 4,
   "id": "77f7e802-a7b6-4cb3-9dd4-c3f70f5ae624",
   "metadata": {},
   "outputs": [
    {
     "name": "stdout",
     "output_type": "stream",
     "text": [
      "/home/jq01/wetlab/sequencing/nanopore/250520_NH20_subpool2/250528_sequencing/cmds/\n",
      "cmds_dir \n",
      "\n",
      "/home/jq01/wetlab/sequencing/nanopore/250520_NH20_subpool2/250528_sequencing/submit/\n",
      "submit_dir \n",
      "\n",
      "/home/jq01/wetlab/sequencing/nanopore/250520_NH20_subpool2/250528_sequencing/logs/\n",
      "logs_dir \n",
      "\n",
      "/home/jq01/wetlab/sequencing/nanopore/250520_NH20_subpool2/250528_sequencing/_2_bc_demuxing_output/\n",
      "_2_bc_demuxing_output_dir \n",
      "\n",
      "/home/jq01/wetlab/sequencing/nanopore/250520_NH20_subpool2/250528_sequencing/_3_consensus_output/\n",
      "_3_consensus_output_dir \n",
      "\n",
      "/net/scratch/jq01/demuxing/250528_NH20_subpool2_sequencing/_0_basecalling_output/\n",
      "_0_basecalling_output_dir \n",
      "\n",
      "/net/scratch/jq01/demuxing/250528_NH20_subpool2_sequencing/_1_fastq_output/\n",
      "_1_fastq_output_dir \n",
      "\n"
     ]
    }
   ],
   "source": [
    "'''\n",
    "cmds folder: files with all the command lines for each job submission\n",
    "submit folder: sh file for calling the command files\n",
    "log folder: logs of submitted jobs\n",
    "_0_basecalling_output: basecall sequencing files from pod5  \n",
    "_1_fastq_output: filter reads based on quality score  \n",
    "_2_bc_demuxing_output: demultiplex fastq for each daisy chain barcode combination\n",
    "_3_consensus_output: generate consensus sequences from each demultiplexed files\n",
    "'''\n",
    "\n",
    "# Makes output directories (in home directory) and defines associated variables\n",
    "wrk_dirs_list = ['cmds/','submit/','logs/','_2_bc_demuxing_output/', '_3_consensus_output/']\n",
    "\n",
    "for wrk_dir in wrk_dirs_list:\n",
    "    os.makedirs(f'{sequencing_dir}{wrk_dir}',exist_ok=True)\n",
    "    dir_var_name = f'{wrk_dir.replace(\"/\",\"\")}_dir'\n",
    "\n",
    "    # this is to make the dir_var_name so they can be referred to later on.\n",
    "    all_vars = locals()\n",
    "    all_vars[dir_var_name] = f'{sequencing_dir}{wrk_dir}'\n",
    "    print(f'{sequencing_dir}{wrk_dir}')\n",
    "    print(f'{dir_var_name} \\n')\n",
    "    \n",
    "# Makes output directories (scratch) and defines associated variables\n",
    "out_dirs_list = ['_0_basecalling_output/', '_1_fastq_output/']\n",
    "\n",
    "for out_dir in out_dirs_list:\n",
    "    os.makedirs(f'{output_dir}{out_dir}',exist_ok=True)\n",
    "    dir_var_name = f'{out_dir.replace(\"/\",\"\")}_dir'\n",
    "    \n",
    "    all_vars = locals()\n",
    "    all_vars[dir_var_name] = f'{output_dir}{out_dir}'\n",
    "    print(f'{output_dir}{out_dir}')\n",
    "    print(f'{dir_var_name} \\n')"
   ]
  },
  {
   "cell_type": "markdown",
   "id": "c0317b88-95ad-4f67-8138-40350e00a2ea",
   "metadata": {
    "tags": []
   },
   "source": [
    "### 0. Basecalling"
   ]
  },
  {
   "cell_type": "code",
   "execution_count": 26,
   "id": "77d02291-8ab9-430e-8b0a-ba5289409f00",
   "metadata": {},
   "outputs": [
    {
     "name": "stdout",
     "output_type": "stream",
     "text": [
      "submit this in the terminal: \n",
      "sbatch /home/jq01/wetlab/sequencing/nanopore/250520_NH20_subpool2/250528_sequencing/submit/_0_basecalling_h200_gpu.sh\n"
     ]
    }
   ],
   "source": [
    "# Generate commands and sh submission files for basecalling using dorado.\n",
    "\n",
    "gpu = 'h200' # choose GPU h200,l40 or a6000. l40 is much faster (~30 min to process), h200 is even faster (~3 min to process per job)\n",
    "\n",
    "wetlab_util_jq.basecalling_job_submission(gpu, \n",
    "                                          cmds_dir, \n",
    "                                          logs_dir, \n",
    "                                          submit_dir, \n",
    "                                          raw_seq_data_dir, \n",
    "                                          _0_basecalling_output_dir)"
   ]
  },
  {
   "cell_type": "markdown",
   "id": "9436cb34-5b1c-4966-85be-92541af266a9",
   "metadata": {
    "tags": []
   },
   "source": [
    "### 1. Filtering reads"
   ]
  },
  {
   "cell_type": "code",
   "execution_count": 27,
   "id": "aefa89e6-2fc7-4e2b-98a4-51836d8dedfb",
   "metadata": {},
   "outputs": [
    {
     "name": "stdout",
     "output_type": "stream",
     "text": [
      "Using q_score: 15\n",
      "Using min_length: 400 bp\n",
      "\n",
      "Using max_length: 1000 bp\n",
      "\n",
      "submit in the terminal: \n",
      "sbatch /home/jq01/wetlab/sequencing/nanopore/250520_NH20_subpool2/250528_sequencing/submit/_1_filtering_reads_cpu.sh\n",
      "\n"
     ]
    }
   ],
   "source": [
    "# Generate sh submission file for quality filtering of basecalled reads (~ 30 min - 1h  to process)\n",
    "\n",
    "# if you want default values, then comment out these values and erase variables in the command.\n",
    "q_score=15        # quality score to filter on. Higher number filters on higher quality reads. (Default = 15)\n",
    "min_length = 400  # Discard reads smaller than this number (bp).  (320 bp of barcodes + length of design) (Default = 400)\n",
    "max_length = 1000 # Discard reads smaller than this number (bp).  (320 bp of barcodes + length of design) (Default = 1000)\n",
    "\n",
    "wetlab_util_jq.reads_filtering_job_submission(logs_dir, \n",
    "                                              submit_dir, \n",
    "                                              _0_basecalling_output_dir, \n",
    "                                              _1_fastq_output_dir, \n",
    "                                              q_score, \n",
    "                                              min_length,\n",
    "                                              max_length\n",
    "                                              )"
   ]
  },
  {
   "cell_type": "markdown",
   "id": "8d60736d-f6da-4435-9c7b-89a3f2253e0f",
   "metadata": {
    "tags": []
   },
   "source": [
    "### 2. Demultiplexing"
   ]
  },
  {
   "cell_type": "markdown",
   "id": "62ee3f7a-4649-47b9-8524-0022b1b6b6f5",
   "metadata": {
    "tags": []
   },
   "source": [
    "#### Loading barcode files"
   ]
  },
  {
   "cell_type": "code",
   "execution_count": 5,
   "id": "ea982ad4-bc3a-4688-898d-525dab324b9e",
   "metadata": {},
   "outputs": [
    {
     "data": {
      "application/vnd.microsoft.datawrangler.viewer.v0+json": {
       "columns": [
        {
         "name": "index",
         "rawType": "int64",
         "type": "integer"
        },
        {
         "name": "barcode_name",
         "rawType": "object",
         "type": "string"
        },
        {
         "name": "barcode_sequence",
         "rawType": "object",
         "type": "string"
        },
        {
         "name": "bc_location_on_96_plate",
         "rawType": "object",
         "type": "string"
        },
        {
         "name": "bc_location_on_384_plate",
         "rawType": "object",
         "type": "string"
        }
       ],
       "ref": "5270b501-cb82-4855-9d6d-040effa189f5",
       "rows": [
        [
         "0",
         "1_1",
         "CATAAACTGGCGGAGTTGCACTGAT",
         "A1",
         "A1"
        ],
        [
         "1",
         "1_2",
         "GTGGGCCATCTTCCTGCGTATCAAA",
         "A2",
         "A3"
        ],
        [
         "2",
         "1_3",
         "GCCGAAATATGTTTAATGTGCCTCA",
         "A3",
         "A5"
        ],
        [
         "3",
         "1_4",
         "ACGATAAAACAACGGTAATCCGCCG",
         "A4",
         "A7"
        ],
        [
         "4",
         "1_5",
         "ATGTATGCGATCCCAGGTTTGACTT",
         "A5",
         "A9"
        ]
       ],
       "shape": {
        "columns": 4,
        "rows": 5
       }
      },
      "text/html": [
       "<div>\n",
       "<style scoped>\n",
       "    .dataframe tbody tr th:only-of-type {\n",
       "        vertical-align: middle;\n",
       "    }\n",
       "\n",
       "    .dataframe tbody tr th {\n",
       "        vertical-align: top;\n",
       "    }\n",
       "\n",
       "    .dataframe thead th {\n",
       "        text-align: right;\n",
       "    }\n",
       "</style>\n",
       "<table border=\"1\" class=\"dataframe\">\n",
       "  <thead>\n",
       "    <tr style=\"text-align: right;\">\n",
       "      <th></th>\n",
       "      <th>barcode_name</th>\n",
       "      <th>barcode_sequence</th>\n",
       "      <th>bc_location_on_96_plate</th>\n",
       "      <th>bc_location_on_384_plate</th>\n",
       "    </tr>\n",
       "  </thead>\n",
       "  <tbody>\n",
       "    <tr>\n",
       "      <th>0</th>\n",
       "      <td>1_1</td>\n",
       "      <td>CATAAACTGGCGGAGTTGCACTGAT</td>\n",
       "      <td>A1</td>\n",
       "      <td>A1</td>\n",
       "    </tr>\n",
       "    <tr>\n",
       "      <th>1</th>\n",
       "      <td>1_2</td>\n",
       "      <td>GTGGGCCATCTTCCTGCGTATCAAA</td>\n",
       "      <td>A2</td>\n",
       "      <td>A3</td>\n",
       "    </tr>\n",
       "    <tr>\n",
       "      <th>2</th>\n",
       "      <td>1_3</td>\n",
       "      <td>GCCGAAATATGTTTAATGTGCCTCA</td>\n",
       "      <td>A3</td>\n",
       "      <td>A5</td>\n",
       "    </tr>\n",
       "    <tr>\n",
       "      <th>3</th>\n",
       "      <td>1_4</td>\n",
       "      <td>ACGATAAAACAACGGTAATCCGCCG</td>\n",
       "      <td>A4</td>\n",
       "      <td>A7</td>\n",
       "    </tr>\n",
       "    <tr>\n",
       "      <th>4</th>\n",
       "      <td>1_5</td>\n",
       "      <td>ATGTATGCGATCCCAGGTTTGACTT</td>\n",
       "      <td>A5</td>\n",
       "      <td>A9</td>\n",
       "    </tr>\n",
       "  </tbody>\n",
       "</table>\n",
       "</div>"
      ],
      "text/plain": [
       "  barcode_name           barcode_sequence bc_location_on_96_plate  \\\n",
       "0          1_1  CATAAACTGGCGGAGTTGCACTGAT                      A1   \n",
       "1          1_2  GTGGGCCATCTTCCTGCGTATCAAA                      A2   \n",
       "2          1_3  GCCGAAATATGTTTAATGTGCCTCA                      A3   \n",
       "3          1_4  ACGATAAAACAACGGTAATCCGCCG                      A4   \n",
       "4          1_5  ATGTATGCGATCCCAGGTTTGACTT                      A5   \n",
       "\n",
       "  bc_location_on_384_plate  \n",
       "0                       A1  \n",
       "1                       A3  \n",
       "2                       A5  \n",
       "3                       A7  \n",
       "4                       A9  "
      ]
     },
     "metadata": {},
     "output_type": "display_data"
    },
    {
     "name": "stdout",
     "output_type": "stream",
     "text": [
      "{'1_A1': ['AGCCACCGACAACACCACATATATT', 'CCACACAAAAGATATCGTTCGGCTT', 'ATACAGCAGGGTGGAGTTTTCCCGC'], '1_A10': ['GTGCTTGCACTTACGACACAATTCC', 'GTTAGCTCGTGCGTTATCGGTTCTT', 'AGTTTTGGACTCAGCCCGAAGCCAT'], '1_A11': ['CGTATTTAAGCTGGGAAACGACCTG', 'GTTGACTGAGACTACGCGCGAGATC', 'GCATGTTAGCTGCCCGAGTGATTTC'], '1_A12': ['ATGTATGCGATCCCAGGTTTGACTT', 'TTCTGTTTAAGTGTGCCCTGGTTCA', 'TCCATGTTCCCGGAGTGCGAAAAGA'], '1_A13': ['ACGATAAAACAACGGTAATCCGCCG', 'GCGAGTGTGATCCTAGCTTACTGGT', 'GGTTACTCAAACGATTCTGCCTCGA']}\n"
     ]
    }
   ],
   "source": [
    "# Load 96 reference barcodes\n",
    "barcode_96 = wetlab_util_jq.load_reference_bc(ref_96_bc)\n",
    "display(barcode_96.head())\n",
    "\n",
    "# Load daisy chained barcodes combination used in the experiment\n",
    "combo_barcodes = wetlab_util_jq.load_daisy_bc(combo_bc)\n",
    "#display(combo_barcodes.head())\n",
    "\n",
    "# Merge reference barcodes with daisy chained barcodes combination\n",
    "merged_bc = pd.merge(combo_barcodes, barcode_96, left_index=True, right_on='bc_location_on_384_plate', how='left')\n",
    "merged_bc.reset_index(drop=True, inplace=True)\n",
    "\n",
    "# Creates dictionary key = 1536_dest_plate_and_well: value = barcode sequence\n",
    "bc_dict = merged_bc.groupby('1536_dest_plate_and_well')['barcode_sequence'].apply(list).to_dict()\n",
    "\n",
    "# check dictionary is correct\n",
    "print(dict(list(bc_dict.items())[:5]))"
   ]
  },
  {
   "cell_type": "markdown",
   "id": "9b5f6ecc-e11c-4a0b-9cb2-2439e73606aa",
   "metadata": {
    "tags": []
   },
   "source": [
    "#### Generating commands for primer pairs"
   ]
  },
  {
   "cell_type": "code",
   "execution_count": null,
   "id": "0738380a",
   "metadata": {},
   "outputs": [],
   "source": [
    "############################################################\n",
    "# IMPORTANT: \n",
    "# Structure of amplicons for 4 BC:\n",
    "# primer pair 1/2: 2-3-4-dmx7-design-dmx0-1\n",
    "# primer pair 3/4: 3-4-dmx7-design-dmx0-1-2\n",
    "# primer pair 5/6: 4-dmx7-design-dmx0-1-2-3\n",
    "# \n",
    "# Structure of amplicons for 3 BC:\n",
    "# primer pair 1/2: 2-3-dmx7-design-dmx0-1\n",
    "# primer pair 3/6: 3-dmx7-design-dmx0-1-2\n",
    "#############################################################"
   ]
  },
  {
   "cell_type": "code",
   "execution_count": 29,
   "id": "20c9241c-7da5-48bb-b112-679dfdcfad40",
   "metadata": {},
   "outputs": [
    {
     "name": "stdout",
     "output_type": "stream",
     "text": [
      "submit in the terminal for primerpair1_2: \n",
      "sbatch /home/jq01/wetlab/sequencing/nanopore/250520_NH20_subpool2/250528_sequencing/submit/_2_demuxing_primerpair1_2_cpu.sh\n",
      "\n",
      "submit in the terminal for primerpair3_6: \n",
      "sbatch /home/jq01/wetlab/sequencing/nanopore/250520_NH20_subpool2/250528_sequencing/submit/_2_demuxing_primerpair3_6_cpu.sh\n",
      "\n"
     ]
    }
   ],
   "source": [
    "############################################################\n",
    "# Generation of demultiplexing commands for primer pairs that you used for the experiments \n",
    "############################################################\n",
    "# For 4 BC: \n",
    "# choose any combination that you used for your experiment: primerpair1_2, primerpair3_4 and/or primerpair5_6\n",
    "############################################################\n",
    "\n",
    "# primer_pairs = ['primerpair1_2', 'primerpair3_4', 'primerpair5_6']\n",
    "# wetlab_util_jq.demultiplexing_job_submission(primer_pairs,\n",
    "#                                              bc_dict,\n",
    "#                                              cmds_dir,\n",
    "#                                              logs_dir,\n",
    "#                                              submit_dir,\n",
    "#                                              _1_fastq_output_dir,\n",
    "#                                              _2_bc_demuxing_output_dir)\n",
    "\n",
    "############################################################\n",
    "# For 3 BC: (~ 30 to 60 min to process)\n",
    "# choose any combination that you used for your experiment: primerpair1_2 and/or primerpair3_6\n",
    "############################################################\n",
    "\n",
    "primer_pairs = ['primerpair1_2', 'primerpair3_6']\n",
    "wetlab_util_jq.demultiplexing_job_submission_3bc(primer_pairs,\n",
    "                                             bc_dict,\n",
    "                                             cmds_dir,\n",
    "                                             logs_dir,\n",
    "                                             submit_dir,\n",
    "                                             _1_fastq_output_dir,\n",
    "                                             _2_bc_demuxing_output_dir)"
   ]
  },
  {
   "cell_type": "markdown",
   "id": "5e98e3e2-9f43-4dab-af1d-95f8504c2ab1",
   "metadata": {
    "tags": []
   },
   "source": [
    "#### Combine all the demuxed fastq files"
   ]
  },
  {
   "cell_type": "code",
   "execution_count": 30,
   "id": "c01c10f9-11b6-45cb-ad4f-5189fbd4a8e2",
   "metadata": {},
   "outputs": [
    {
     "name": "stderr",
     "output_type": "stream",
     "text": [
      "100%|██████████| 7680/7680 [05:51<00:00, 21.85it/s]"
     ]
    },
    {
     "name": "stdout",
     "output_type": "stream",
     "text": [
      "Combined fastq files are saved in: \n",
      "/home/jq01/wetlab/sequencing/nanopore/250520_NH20_subpool2/250528_sequencing/_2_bc_demuxing_output/combined_fastq/\n"
     ]
    },
    {
     "name": "stderr",
     "output_type": "stream",
     "text": [
      "\n"
     ]
    }
   ],
   "source": [
    "############################################################\n",
    "# Combined all primer pair demuxed fastq files together\n",
    "# This runs the function that 1) combines all the fastq files into a combined folder, 2) output the folder name. \n",
    "############################################################\n",
    "# For 4 BC:\n",
    "# primer_pairs = ['primerpair1_2', 'primerpair3_4', 'primerpair5_6']\n",
    "# _2_combined_fastq_dir = wetlab_util_jq.combine_fastq_files(primer_pairs, _2_bc_demuxing_output_dir)\n",
    "\n",
    "# For 3 BC:\n",
    "primer_pairs = ['primerpair1_2', 'primerpair3_6']\n",
    "_2_combined_fastq_dir = wetlab_util_jq.combine_fastq_files(primer_pairs, _2_bc_demuxing_output_dir)"
   ]
  },
  {
   "cell_type": "markdown",
   "id": "361d8a34-3c63-420c-accf-e43954ee0f82",
   "metadata": {
    "tags": []
   },
   "source": [
    "#### Visualize plotting plates with detected designs with correct BC"
   ]
  },
  {
   "cell_type": "code",
   "execution_count": 6,
   "id": "31ea60b9-8aef-49b3-b783-ff056f28709c",
   "metadata": {},
   "outputs": [
    {
     "data": {
      "application/vnd.microsoft.datawrangler.viewer.v0+json": {
       "columns": [
        {
         "name": "index",
         "rawType": "int64",
         "type": "integer"
        },
        {
         "name": "Name",
         "rawType": "object",
         "type": "string"
        },
        {
         "name": "design_detected",
         "rawType": "int64",
         "type": "integer"
        },
        {
         "name": "num_reads",
         "rawType": "int64",
         "type": "integer"
        }
       ],
       "ref": "1bacb66a-b2a9-4e29-a427-bfc76a0c8dd7",
       "rows": [
        [
         "0",
         "5_Z19",
         "1",
         "628"
        ],
        [
         "1",
         "5_T3",
         "1",
         "962"
        ],
        [
         "2",
         "2_K43",
         "1",
         "1187"
        ],
        [
         "3",
         "5_G37",
         "1",
         "3308"
        ],
        [
         "4",
         "2_N40",
         "1",
         "1997"
        ]
       ],
       "shape": {
        "columns": 3,
        "rows": 5
       }
      },
      "text/html": [
       "<div>\n",
       "<style scoped>\n",
       "    .dataframe tbody tr th:only-of-type {\n",
       "        vertical-align: middle;\n",
       "    }\n",
       "\n",
       "    .dataframe tbody tr th {\n",
       "        vertical-align: top;\n",
       "    }\n",
       "\n",
       "    .dataframe thead th {\n",
       "        text-align: right;\n",
       "    }\n",
       "</style>\n",
       "<table border=\"1\" class=\"dataframe\">\n",
       "  <thead>\n",
       "    <tr style=\"text-align: right;\">\n",
       "      <th></th>\n",
       "      <th>Name</th>\n",
       "      <th>design_detected</th>\n",
       "      <th>num_reads</th>\n",
       "    </tr>\n",
       "  </thead>\n",
       "  <tbody>\n",
       "    <tr>\n",
       "      <th>0</th>\n",
       "      <td>5_Z19</td>\n",
       "      <td>1</td>\n",
       "      <td>628</td>\n",
       "    </tr>\n",
       "    <tr>\n",
       "      <th>1</th>\n",
       "      <td>5_T3</td>\n",
       "      <td>1</td>\n",
       "      <td>962</td>\n",
       "    </tr>\n",
       "    <tr>\n",
       "      <th>2</th>\n",
       "      <td>2_K43</td>\n",
       "      <td>1</td>\n",
       "      <td>1187</td>\n",
       "    </tr>\n",
       "    <tr>\n",
       "      <th>3</th>\n",
       "      <td>5_G37</td>\n",
       "      <td>1</td>\n",
       "      <td>3308</td>\n",
       "    </tr>\n",
       "    <tr>\n",
       "      <th>4</th>\n",
       "      <td>2_N40</td>\n",
       "      <td>1</td>\n",
       "      <td>1997</td>\n",
       "    </tr>\n",
       "  </tbody>\n",
       "</table>\n",
       "</div>"
      ],
      "text/plain": [
       "    Name  design_detected  num_reads\n",
       "0  5_Z19                1        628\n",
       "1   5_T3                1        962\n",
       "2  2_K43                1       1187\n",
       "3  5_G37                1       3308\n",
       "4  2_N40                1       1997"
      ]
     },
     "execution_count": 6,
     "metadata": {},
     "output_type": "execute_result"
    }
   ],
   "source": [
    "_2_combined_fastq_dir = '/home/jq01/wetlab/sequencing/nanopore/250520_NH20_subpool2/250528_sequencing/_2_bc_demuxing_output/combined_fastq/'\n",
    "\n",
    "# List to hold the data\n",
    "data_size = []\n",
    "\n",
    "for well in glob.glob(f'{_2_combined_fastq_dir}*fastq'):\n",
    "    # get each basename of each file\n",
    "    bn = os.path.basename(well).replace('.fastq', '')\n",
    "\n",
    "# #check individual primer pairs\n",
    "# for well in glob.glob(f'{primer5_6_dir}*fastq'):\n",
    "#     # get each basename of each file\n",
    "#     bn = os.path.basename(well).replace('.fastq', '')\n",
    "\n",
    "    # Open the file and count the number of reads\n",
    "    with open(well, 'r') as file:\n",
    "        # Count the number of lines and divide by 4 to get the number of reads\n",
    "        num_reads = sum(1 for line in file) / 4\n",
    "    \n",
    "    # Determine design_detected based on the number of reads\n",
    "    design_detected = 1 if num_reads > 150 else 0\n",
    "    \n",
    "    # Append the result to the list\n",
    "    data_size.append({'Name': bn, 'design_detected': design_detected, 'num_reads':int(num_reads)})\n",
    "\n",
    "# Convert the list to a pandas DataFrame\n",
    "plate_detection = pd.DataFrame(data_size)\n",
    "plate_detection.head()"
   ]
  },
  {
   "cell_type": "code",
   "execution_count": 32,
   "id": "8712a4a2-55c0-4647-a13a-709cd798fd00",
   "metadata": {},
   "outputs": [
    {
     "name": "stdout",
     "output_type": "stream",
     "text": [
      "Plate\n",
      "1    1530\n",
      "2    1526\n",
      "3    1524\n",
      "4    1423\n",
      "5    1525\n",
      "Name: design_detected, dtype: int64\n"
     ]
    }
   ],
   "source": [
    "plate_detection['Plate'] = plate_detection['Name'].str.split('_').str[0]\n",
    "\n",
    "# Sum 'design_detected' for each plate\n",
    "design_counts = plate_detection.groupby('Plate')['design_detected'].sum()\n",
    "\n",
    "# Display the counts for each plate\n",
    "print(design_counts)"
   ]
  },
  {
   "cell_type": "code",
   "execution_count": 33,
   "id": "5130342d-bb81-47f9-b8e1-f97dcafe05e2",
   "metadata": {},
   "outputs": [
    {
     "data": {
      "image/png": "[encoded data removed]",
      "text/plain": [
       "<Figure size 1500x600 with 6 Axes>"
      ]
     },
     "metadata": {},
     "output_type": "display_data"
    }
   ],
   "source": [
    "# Plotting plate mapping with wells that had correct demuxed barcode reads\n",
    "\n",
    "# Parse the plate number and well position\n",
    "plate_detection['Plate'] = plate_detection['Name'].apply(lambda x: x.split('_')[0])\n",
    "plate_detection['Well'] = plate_detection['Name'].apply(lambda x: x.split('_')[1])\n",
    "\n",
    "# Mapping function for wells\n",
    "def well_to_indices(well):\n",
    "    row_part = ''.join(filter(str.isalpha, well))\n",
    "    col_part = ''.join(filter(str.isdigit, well))\n",
    "    \n",
    "    # Mapping rows with double letters (handle up to ZZ for simplification)\n",
    "    row = (ord(row_part[-1]) - ord('A')) + (26 if len(row_part) == 2 else 0)\n",
    "    \n",
    "    # Convert column from 1-based to 0-based\n",
    "    col = int(col_part) - 1\n",
    "    return row, col\n",
    "\n",
    "# Create empty grids for each plate\n",
    "plate_grids = {plate: np.zeros((32, 48), dtype=int) for plate in sorted(plate_detection['Plate'].unique())}\n",
    "\n",
    "# Fill the grids\n",
    "for _, row in plate_detection.iterrows():\n",
    "    plate = row['Plate']\n",
    "    r, c = well_to_indices(row['Well'])\n",
    "    plate_grids[plate][r, c] = row['design_detected']\n",
    "\n",
    "# Plotting\n",
    "fig, axes = plt.subplots(nrows=1, ncols=len(plate_grids), figsize=(15, 6), constrained_layout=True)\n",
    "if len(plate_grids) == 1:  # Ensure axes is iterable\n",
    "    axes = [axes]\n",
    "\n",
    "for ax, (plate, grid) in zip(axes, plate_grids.items()):\n",
    "    cax = ax.matshow(grid, cmap='viridis', vmin=0, vmax=1)\n",
    "    ax.set_title(f'Plate {plate}')\n",
    "    ax.set_xlabel('Columns')\n",
    "    ax.set_ylabel('Rows')\n",
    "    ax.set_xticks(range(0, 48, 8))\n",
    "    ax.set_yticks(range(0, 32, 4))\n",
    "    ax.grid(True, which='both', color='k', linestyle='-', linewidth=1)\n",
    "\n",
    "# Add colorbar and layout\n",
    "fig.colorbar(cax, ax=axes, orientation='vertical', fraction=0.025, pad=0.04)\n",
    "#plt.normal_layout()\n",
    "plt.show()"
   ]
  },
  {
   "cell_type": "markdown",
   "id": "c5628585-499a-4179-8927-a3d9c6075edf",
   "metadata": {
    "tags": []
   },
   "source": [
    "### 3. Alignement to reference and consensus sequence generation"
   ]
  },
  {
   "cell_type": "code",
   "execution_count": 34,
   "id": "7e5845a1-6cab-438c-bd6b-1e65b24e90f2",
   "metadata": {},
   "outputs": [
    {
     "name": "stdout",
     "output_type": "stream",
     "text": [
      "submit in the terminal: \n",
      "sbatch /home/jq01/wetlab/sequencing/nanopore/250520_NH20_subpool2/250528_sequencing/submit/_3_consensus_sequence_cpu.sh\n",
      "\n"
     ]
    }
   ],
   "source": [
    "# Generate sh submission file to run the alignment and consensus sequence generation commands (~ 2 minutes)\n",
    "\n",
    "minimum_depth = 150 # minimum reads depth required to make a consensus call. Default is 150\n",
    "\n",
    "wetlab_util_jq.consensus_sequence_job_submission(cmds_dir,\n",
    "                                                 logs_dir,\n",
    "                                                 submit_dir,\n",
    "                                                 _3_consensus_output_dir,\n",
    "                                                 _2_combined_fastq_dir,\n",
    "                                                 ref_library,\n",
    "                                                 minimum_depth)"
   ]
  },
  {
   "cell_type": "markdown",
   "id": "b875d598-801c-470a-a8e0-10407a176f84",
   "metadata": {
    "tags": []
   },
   "source": [
    "### 4. Re-arraying DMXed clones into plates for glycerol stock"
   ]
  },
  {
   "cell_type": "code",
   "execution_count": 6,
   "id": "295cf8e9-5ad9-4cd5-af09-62c6a3df4028",
   "metadata": {},
   "outputs": [],
   "source": [
    "# import fasta files generated from consensus sequence generation into dataframe \n",
    "def parse_fasta_biopython(fasta_filename):\n",
    "    sequences = {}\n",
    "    for record in SeqIO.parse(fasta_filename, \"fasta\"):\n",
    "        sequences[record.id] = str(record.seq)\n",
    "    return sequences\n",
    "\n",
    "def consensus_df(folder_name):\n",
    "    data = []\n",
    "    # All sequence from barcoded combo\n",
    "    for well in glob.glob(f'{folder_name}*fa'):\n",
    "        bn = os.path.basename(well).replace('.fa', '')\n",
    "        sequences = parse_fasta_biopython(well)\n",
    "        # Append each sequence information to the DataFrame\n",
    "        data.extend([{\n",
    "            \"1536_well_name\": bn,\n",
    "            \"design_name\": design_name,\n",
    "            \"sequence\": sequence,\n",
    "            \"length\": len(sequence)\n",
    "        } for design_name, sequence in sequences.items()])\n",
    "    df_consensus = pd.DataFrame(data)\n",
    "    return df_consensus\n",
    "\n",
    "# Load reference sequence of designs as dataframe\n",
    "sequences = parse_fasta_biopython(ref_library)\n",
    "data = [{   \n",
    "            \"design_name\": design_name,\n",
    "            \"sequence\": sequence,\n",
    "            \"length\": len(sequence)\n",
    "        } for design_name, sequence in sequences.items()]\n",
    "df_ref_lib = pd.DataFrame(data)\n",
    "\n",
    "## Load demuxed consensus sequences as dataframe\n",
    "all_primers_cons = consensus_df(f'{_3_consensus_output_dir}/')\n",
    "\n",
    "# Merge and compare dmx consensus sequences with reference library sequences\n",
    "all_primers_cons = all_primers_cons.merge(df_ref_lib, on='design_name', suffixes=('', '_ref'))\n",
    "all_primers_cons['correct_sequence'] = all_primers_cons.apply(lambda row: row['sequence'] == row['sequence_ref'], axis=1)"
   ]
  },
  {
   "cell_type": "code",
   "execution_count": 7,
   "id": "43c99ee5",
   "metadata": {},
   "outputs": [],
   "source": [
    "# From echo culture transfer file, import wells matching  384-well to 1536-well plates  \n",
    "mapping_384to1536 = pd.read_csv(mapping_384_to_1536_wells, sep=',')\n",
    "mapping_384to1536.rename(columns={\n",
    "    'Source Plate Name': 'source_plate', \n",
    "    'Source Well': \"source_well\",\n",
    "    'Destination Plate Name': '1536_dest_plate', \n",
    "    'Destination Well': '1536_well',\n",
    "    'Transfer Volume': 'transfer_volume'}, inplace=True)\n",
    "mapping_384to1536['1536_plate_and_well'] = mapping_384to1536['1536_dest_plate'].str[-1] + \"_\" + mapping_384to1536['1536_well']"
   ]
  },
  {
   "cell_type": "code",
   "execution_count": 2,
   "id": "d5cac2ea-68c2-4a89-924a-affbd6b37352",
   "metadata": {},
   "outputs": [
    {
     "ename": "NameError",
     "evalue": "name 'all_primers_cons' is not defined",
     "output_type": "error",
     "traceback": [
      "\u001b[0;31m---------------------------------------------------------------------------\u001b[0m",
      "\u001b[0;31mNameError\u001b[0m                                 Traceback (most recent call last)",
      "Cell \u001b[0;32mIn[2], line 4\u001b[0m\n\u001b[1;32m      1\u001b[0m \u001b[38;5;66;03m# Obtain final list of wells that each have a unique and perfect design\u001b[39;00m\n\u001b[1;32m      2\u001b[0m \n\u001b[1;32m      3\u001b[0m \u001b[38;5;66;03m# Drop wells that have multiple sequences in them. (keep=False means it drops all duplicates)\u001b[39;00m\n\u001b[0;32m----> 4\u001b[0m unique_design_per_well \u001b[38;5;241m=\u001b[39m all_primers_cons\u001b[38;5;241m.\u001b[39mdrop_duplicates(subset\u001b[38;5;241m=\u001b[39m\u001b[38;5;124m\"\u001b[39m\u001b[38;5;124m1536_well_name\u001b[39m\u001b[38;5;124m\"\u001b[39m, keep\u001b[38;5;241m=\u001b[39m\u001b[38;5;28;01mFalse\u001b[39;00m)\n\u001b[1;32m      6\u001b[0m \u001b[38;5;66;03m# Keep wells that have perfect design compared to reference library\u001b[39;00m\n\u001b[1;32m      7\u001b[0m unique_design_per_well_correct \u001b[38;5;241m=\u001b[39m unique_design_per_well[unique_design_per_well[\u001b[38;5;124m'\u001b[39m\u001b[38;5;124mcorrect_sequence\u001b[39m\u001b[38;5;124m'\u001b[39m] \u001b[38;5;241m==\u001b[39m \u001b[38;5;28;01mTrue\u001b[39;00m]\n",
      "\u001b[0;31mNameError\u001b[0m: name 'all_primers_cons' is not defined"
     ]
    }
   ],
   "source": [
    "# Obtain final list of wells that each have a unique and perfect design\n",
    "\n",
    "# Drop wells that have multiple sequences in them. (keep=False means it drops all duplicates)\n",
    "unique_design_per_well = all_primers_cons.drop_duplicates(subset=\"1536_well_name\", keep=False)\n",
    "\n",
    "# Keep wells that have perfect design compared to reference library\n",
    "unique_design_per_well_correct = unique_design_per_well[unique_design_per_well['correct_sequence'] == True]\n",
    "\n",
    "# Keep only one well (e.g. the first in the list) that has a perfect design in it\n",
    "unique_set_correct = unique_design_per_well_correct.drop_duplicates(subset='design_name', keep='first')\n",
    "\n",
    "# Sort by plate name\n",
    "unique_set_correct = unique_set_correct.sort_values(by='1536_well_name', ascending=True).reset_index(drop=True)\n",
    "\n",
    "# Matching perfect design list from demuxing output to the 384-well template plate list\n",
    "dmx_clones = mapping_384to1536.merge(unique_set_correct, left_on='1536_plate_and_well', right_on='1536_well_name')\n",
    "\n",
    "print(f'Perfect unique designs that to be re-arrayed into glycerol plates: {len(unique_set_correct)}')\n"
   ]
  },
  {
   "cell_type": "code",
   "execution_count": 14,
   "id": "0643d58a",
   "metadata": {},
   "outputs": [
    {
     "name": "stdout",
     "output_type": "stream",
     "text": [
      "Generated 1073 transfers across 3 glycerol destination plates (384-well plates).\n"
     ]
    }
   ],
   "source": [
    "# Generate instructions source plate and well to destination plate and well and volume\n",
    "\n",
    "# Generate 384-well names\n",
    "dest_wells_384 = wetlab_util_jq.generate_well_names('384w_plate')\n",
    "\n",
    "# Initialize variables\n",
    "volume = 1000.0  # nanoliters\n",
    "echo_instructions = []\n",
    "dest_counter = 0  # To keep track of destination well\n",
    "dest_p_no = 1     # To keep track of destination plate number\n",
    "\n",
    "for i, row in dmx_clones.iterrows():\n",
    "    if dest_counter == 384:  # Reset for new plate after 384 wells\n",
    "        dest_counter = 0\n",
    "        dest_p_no += 1\n",
    "\n",
    "    # Current destination plate and well\n",
    "    dest_p = f\"dest_384_plate_{dest_p_no:02d}\"\n",
    "    dest_w = dest_wells_384[dest_counter]\n",
    "    \n",
    "    echo_instructions.append([row[\"source_plate\"], row[\"source_well\"], dest_p, dest_w, volume])  # Append the instruction with design name\n",
    "    \n",
    "    # Increment the destination counter\n",
    "    dest_counter += 1\n",
    "\n",
    "print(f\"Generated {len(echo_instructions)} transfers across {dest_p_no} glycerol destination plates (384-well plates).\")"
   ]
  },
  {
   "cell_type": "code",
   "execution_count": null,
   "id": "904ee207",
   "metadata": {},
   "outputs": [
    {
     "name": "stdout",
     "output_type": "stream",
     "text": [
      "Re-arraying transfer echo csv file is saved as: \n",
      "/home/jq01/wetlab/sequencing/nanopore/250520_NH20_subpool2/250520_echo_transfer/250601_step4_demuxed_clone_rearray.csv \n",
      "\n",
      "Re-arraying csv file with all info is saved as: \n",
      "/home/jq01/wetlab/sequencing/nanopore/250520_NH20_subpool2/250520_echo_transfer/250601_step4_demuxed_clone_rearray_ALL_INFO.csv \n",
      "\n"
     ]
    }
   ],
   "source": [
    "# Export dmx clone reaaray transfer csv file into echo directory\n",
    "date_time_str = date.today().strftime('%Y%m%d')[2:]\n",
    "write_echo_file = False\n",
    "write_all_info = True\n",
    "\n",
    "file_name_echo_transfer = f'{date_time_str}_step4_demuxed_clone_rearray.csv'\n",
    "file_name_ALL_INFO = f'{date_time_str}_step4_demuxed_clone_rearray_ALL_INFO.csv'\n",
    "\n",
    "output_file_echo_transfer = os.path.join(echo_dir, file_name_echo_transfer)  # output directory and file_name\n",
    "output_file_ALL_INFO = os.path.join(echo_dir, file_name_ALL_INFO)  # output directory and file_name\n",
    "\n",
    "if write_echo_file:\n",
    "    # Export only the transfer instructions without design name and sequence\n",
    "    with open(output_file_echo_transfer, mode='w', newline='') as file:\n",
    "        writer = csv.writer(file)\n",
    "        writer.writerow([\"Source Plate Name\",\n",
    "                        \"Source Well\",\n",
    "                        \"Destination Plate Name\",\n",
    "                        \"Destination Well\",\n",
    "                        \"Transfer Volume\"]) # Column name needs this format for Echo compatibility\n",
    "        for instr in echo_instructions:\n",
    "            writer.writerow(instr[:5])  # Write only the first 5 columns\n",
    "        print(f'Re-arraying transfer echo csv file is saved as: \\n{echo_dir}{file_name_echo_transfer} \\n')\n",
    "\n",
    "if write_all_info:\n",
    "    # Export all information including design name and sequence\n",
    "    echo_df = pd.DataFrame(echo_instructions, columns=[\n",
    "    \"source_plate\",\n",
    "    \"source_well\",\n",
    "    \"dest_plate\",\n",
    "    \"dest_well\",\n",
    "    \"volume_nl\"\n",
    "    ])\n",
    "    echo_df = echo_df[['source_plate', 'source_well', 'dest_plate', 'dest_well']]\n",
    "\n",
    "    echo_df_all_info = pd.merge(dmx_clones, echo_df, on=[\"source_plate\", \"source_well\"], how=\"inner\")\n",
    "    echo_df_all_info = echo_df_all_info[['source_plate','source_well', '1536_dest_plate', '1536_well', 'design_name', 'sequence','length','correct_sequence', 'dest_plate', 'dest_well']]\n",
    "    echo_df_all_info['384_glycerol_plate'] = echo_df_all_info['dest_plate'].str[-1] + \"_\" + echo_df_all_info['dest_well']\n",
    "\n",
    "    columns_order = ['source_plate', 'source_well', '1536_dest_plate', '1536_well' , 'dest_plate', 'dest_well', '384_glycerol_plate', 'design_name', 'sequence', 'length', 'correct_sequence']\n",
    "    echo_df_all_info = echo_df_all_info[columns_order]\n",
    "    echo_df_all_info.to_csv(output_file_ALL_INFO, index=False)\n",
    "    \n",
    "    print(f'Re-arraying csv file with all info is saved as: \\n{echo_dir}{file_name_ALL_INFO} \\n')\n"
   ]
  },
  {
   "cell_type": "markdown",
   "id": "035091f5-6bae-4228-88be-49a606f50621",
   "metadata": {},
   "source": [
    "### 5. Re-arraying from 384-well glycerol stock to 96-well protein purification plates "
   ]
  },
  {
   "cell_type": "code",
   "execution_count": 13,
   "id": "6fea184f-47b2-455f-965a-3208fc096c62",
   "metadata": {},
   "outputs": [],
   "source": [
    "# here the dataframe:\n",
    "# culture plate: source_plate: source_384_01 \n",
    "# demuxed plate: 1536_dest_plate: dest_1536_01\n",
    "# final arrayed plate (glycerol plate): dest_plate: dest_384_plate_01 and dest_well: A1\n",
    "# 384_glycerol_plate is the combination of dest_plate and dest_well\n",
    "# matched with sequences"
   ]
  },
  {
   "cell_type": "code",
   "execution_count": null,
   "id": "8440ba68-d848-4e3f-9fa8-3a0fd15d2772",
   "metadata": {},
   "outputs": [],
   "source": [
    "# Mapping of our custom 384_glycerol_plate to 96 well protein purification plates\n",
    "# 384 well to 96 well format. \n",
    "# A1 -> A1, A3 -> A2, A5 -> A3, A7 -> A4 ..\n",
    "# A2 -> B1, A4 -> B2, A6 -> B3, A8 -> B4 ..\n",
    "# B1 -> C1, B3 -> C2, B5 -> C3, B7 -> C4 ..\n",
    "# B2 -> D1, B4 -> D2, B6 -> D3, B8 -> D4 ..\n",
    "\n",
    "def map_384_to_96(total_wells_num):\n",
    "    \"\"\"Map 384-well plate wells into multiple 96-well plates according to the specified pattern.\"\"\"\n",
    "    # Generate well names for a 384-well plate (16 rows x 24 columns)\n",
    "    plate_384_wells = wetlab_util_jq.generate_well_names('384w_plate')\n",
    "    \n",
    "    # Generate well names for a single 96-well plate (8 rows x 12 columns)\n",
    "    plate_96_wells = wetlab_util_jq.generate_well_names('96w_plate')\n",
    "\n",
    "    mapping = []\n",
    "    plate_index = 1\n",
    "    well_counter = 0\n",
    "    src_plate_index = 1\n",
    "\n",
    "    while well_counter < total_wells_num:\n",
    "        for row in range(16):\n",
    "            for col in range(0, 24, 2):\n",
    "                if well_counter >= total_wells_num:\n",
    "                    break\n",
    "                src_well = f\"{src_plate_index}_{plate_384_wells[row * 24 + col]}\"\n",
    "                dest_well = f\"{chr(65 + ((well_counter // 12) % 8))}{(well_counter % 12) + 1}\"\n",
    "                mapping.append((src_well, f\"{plate_index}_{dest_well}\"))\n",
    "\n",
    "                well_counter += 1\n",
    "                if well_counter % 96 == 0:\n",
    "                    plate_index += 1\n",
    "\n",
    "            if well_counter >= total_wells_num:\n",
    "                break\n",
    "\n",
    "            for col in range(1, 24, 2):\n",
    "                if well_counter >= total_wells_num:\n",
    "                    break\n",
    "                src_well = f\"{src_plate_index}_{plate_384_wells[row * 24 + col]}\"\n",
    "                dest_well = f\"{chr(65 + ((well_counter // 12) % 8))}{(well_counter % 12) + 1}\"\n",
    "                mapping.append((src_well, f\"{plate_index}_{dest_well}\"))\n",
    "\n",
    "                well_counter += 1\n",
    "                if well_counter % 96 == 0:\n",
    "                    plate_index += 1\n",
    "\n",
    "            if (row + 1) % 16 == 0 and well_counter < total_wells_num:\n",
    "                src_plate_index += 1\n",
    "\n",
    "    num_384_well_plates = (total_wells_num + 383) // 384\n",
    "    num_96_well_plates = (total_wells_num + 95) // 96\n",
    "\n",
    "    print(f\"Total number of 384-well plates needed: {num_384_well_plates}\")\n",
    "    print(f\"Total number of 96-well plates needed: {num_96_well_plates}\")\n",
    "\n",
    "    return mapping"
   ]
  },
  {
   "cell_type": "code",
   "execution_count": null,
   "id": "a4d0f7dd",
   "metadata": {},
   "outputs": [
    {
     "name": "stdout",
     "output_type": "stream",
     "text": [
      "Total number of 384-well plates needed: 3\n",
      "Total number of 96-well plates needed: 12\n"
     ]
    }
   ],
   "source": [
    "# Example usage\n",
    "total_wells_num = 1152  # Set the total number of wells to map\n",
    "well_mapping = map_384_to_96(total_wells_num)\n",
    "\n",
    "# Convert mapping to a DataFrame for better visualization and save to a file\n",
    "df_mapping = pd.DataFrame(well_mapping, columns=['384_glycerol_plate', '96_purified_proteins_plate'])"
   ]
  },
  {
   "cell_type": "code",
   "execution_count": null,
   "id": "1e686fee-de28-4221-9434-e222eb23f452",
   "metadata": {},
   "outputs": [
    {
     "data": {
      "application/vnd.microsoft.datawrangler.viewer.v0+json": {
       "columns": [
        {
         "name": "index",
         "rawType": "int64",
         "type": "integer"
        },
        {
         "name": "384_glycerol_plate",
         "rawType": "object",
         "type": "string"
        },
        {
         "name": "96_purified_proteins_plate",
         "rawType": "object",
         "type": "string"
        },
        {
         "name": "source_plate",
         "rawType": "object",
         "type": "string"
        },
        {
         "name": "source_well",
         "rawType": "object",
         "type": "string"
        },
        {
         "name": "1536_dest_plate",
         "rawType": "object",
         "type": "string"
        },
        {
         "name": "1536_well",
         "rawType": "object",
         "type": "string"
        },
        {
         "name": "dest_plate",
         "rawType": "object",
         "type": "string"
        },
        {
         "name": "dest_well",
         "rawType": "object",
         "type": "string"
        },
        {
         "name": "design_name",
         "rawType": "object",
         "type": "string"
        },
        {
         "name": "sequence",
         "rawType": "object",
         "type": "string"
        },
        {
         "name": "length",
         "rawType": "int64",
         "type": "integer"
        },
        {
         "name": "correct_sequence",
         "rawType": "bool",
         "type": "boolean"
        }
       ],
       "conversionMethod": "pd.DataFrame",
       "ref": "13f1b8ad-0845-4595-84a0-8002530f919b",
       "rows": [
        [
         "0",
         "1_A1",
         "1_A1",
         "source_384_01",
         "A3",
         "dest_1536_01",
         "A3",
         "dest_384_plate_01",
         "A1",
         "subpool3_sequence_549",
         "ATGGAGAAACTGAAGGTCGTGAAAACCGTGACGTTTGATGGTAAAGAATATAAGTTCGAAGCGGAGCTGGAACTGAACAGCAGCAGCCAGACGGTGACCGTTACCGATAAAGAAAGCAACGTTACCCTGAAAGTGACCTTCGCGAACATTAGCGAAGAAGGCCTGGAAGAAAAGAGCGCGACCCTGACCATTGATGGCAAAACCTATGAACTGGAAGTGGAAAGCATCAGCTACGAAAACGGCACCTATTATGTGACCAACAAACTGAAA",
         "270",
         "True"
        ],
        [
         "1",
         "1_A3",
         "1_A2",
         "source_384_01",
         "A6",
         "dest_1536_01",
         "A6",
         "dest_384_plate_01",
         "A3",
         "subpool3_sequence_615",
         "ATGACCGTTACCAAAGTGTTTAAACGCGGCGATACCGAAGCGAGCGCGACCGTTTCTGTGGCGGATAACACCTGGACCACCATCACCGTGACCTATGAAATTGATGGCAAAACCTACGAATTTACCCTGACCGTGAAAGTGGATAAAGCGAACGGCCTGGTGTATGAACAGCGCGTGCCGGGCAAAACGTACGAAGTGACGTATGAAGTGAACGGTCAGAGCTATCCGCTGGCGATTACCCCGGAAGGCGATTGGTATCGTGCGAGCTTTCCGAGCTCGGCGACCAACGTGACCATTACCAACACCGAA",
         "309",
         "True"
        ],
        [
         "2",
         "1_A5",
         "1_A3",
         "source_384_01",
         "A14",
         "dest_1536_01",
         "A14",
         "dest_384_plate_01",
         "A5",
         "subpool3_sequence_74",
         "GCGACCTATAAATTCAAGAAAACCTTCGATCACGATGGTAAAACCCTGACGTTTGAATTTAGCGTGACCACCACCGCGAACACCCAGACCTTTACCAAAACCGTGAGCACCACCCTGGATGGCAAAACCTATAGCCTGACCCTGAAATTTACCCTGAACGTGGCGACCAAAACGGCGGATGAAGAACCGGTGACCCTGTATGTGAACGGCAAACCGGTTGCGGATTATAAACAGGCGAGCCAGAGCTATAGCAACGGCGTGTATAACATTACCAACGAAAAGGTGGAA",
         "288",
         "True"
        ],
        [
         "3",
         "1_A7",
         "1_A4",
         "source_384_01",
         "A18",
         "dest_1536_01",
         "A18",
         "dest_384_plate_01",
         "A7",
         "subpool3_sequence_555",
         "ATGACCGTAACCGTTAACAAAACGTTTGAAACCGAAGCGCCGGTGGATGTGAAAGTTACCATTACCGTGGAAGCCGAAGGCAAAACCAAAACCGAAACCCTGACCTATGAAAACCTGAAACCGGGCGATAAGAAAGAATGGACCCTGACCCTGGAAGCACCGGAAGCGGGCGAAGTTACGGTGAACGAAACCGTGACCGTGAAAGCGAAAGAAGGTAAAGTTCGCGCGACCGTTACCGTTGAAGCCCAGGGCATTACGAAAACCGCCGAAGCCGTGGCGGATAAAGAAGAAGTGACCCTGACGGTGACGCTGACCTTTGAAGCGACCGAAGAAGAGGTGACCGTCAACGTGACCAACAAAGTGGAGAAAGTGGAAGAA",
         "378",
         "True"
        ],
        [
         "4",
         "1_A9",
         "1_A5",
         "source_384_01",
         "B14",
         "dest_1536_01",
         "A38",
         "dest_384_plate_01",
         "A9",
         "subpool3_sequence_424",
         "ATGACCCTGAACGTGACGAAAACCTTCACCTACAAATATGGCACCCAGGAAAAGAAAATTACCAAGAACTTTACCATTGCGGCGGATGATGGCAAAACCTATTCCAAAACCCTGAGCTATAGCGAAACCTTGACCTTTACCGATCCGGAAACCGGTAAGAAATATAGCTACGATGTGAACGTTACCTATACCGTGACGGTGAAACGCGAAGGCGATACCCTGACCGTGACCGAAACCACCAGCACCAACTTTGATAGTCTGACCATTACCGATACTGAAACCGGCCTGAGCGCGACCGCGGCAGCGAATAGCAACAGCGTTAGTTTAACCGTGCCGGCGGATACCACCGCGGTGAACATTAACAACGTGAAAACGCTGAAAGAT",
         "384",
         "True"
        ]
       ],
       "shape": {
        "columns": 12,
        "rows": 5
       }
      },
      "text/html": [
       "<div>\n",
       "<style scoped>\n",
       "    .dataframe tbody tr th:only-of-type {\n",
       "        vertical-align: middle;\n",
       "    }\n",
       "\n",
       "    .dataframe tbody tr th {\n",
       "        vertical-align: top;\n",
       "    }\n",
       "\n",
       "    .dataframe thead th {\n",
       "        text-align: right;\n",
       "    }\n",
       "</style>\n",
       "<table border=\"1\" class=\"dataframe\">\n",
       "  <thead>\n",
       "    <tr style=\"text-align: right;\">\n",
       "      <th></th>\n",
       "      <th>384_glycerol_plate</th>\n",
       "      <th>96_purified_proteins_plate</th>\n",
       "      <th>source_plate</th>\n",
       "      <th>source_well</th>\n",
       "      <th>1536_dest_plate</th>\n",
       "      <th>1536_well</th>\n",
       "      <th>dest_plate</th>\n",
       "      <th>dest_well</th>\n",
       "      <th>design_name</th>\n",
       "      <th>sequence</th>\n",
       "      <th>length</th>\n",
       "      <th>correct_sequence</th>\n",
       "    </tr>\n",
       "  </thead>\n",
       "  <tbody>\n",
       "    <tr>\n",
       "      <th>0</th>\n",
       "      <td>1_A1</td>\n",
       "      <td>1_A1</td>\n",
       "      <td>source_384_01</td>\n",
       "      <td>A3</td>\n",
       "      <td>dest_1536_01</td>\n",
       "      <td>A3</td>\n",
       "      <td>dest_384_plate_01</td>\n",
       "      <td>A1</td>\n",
       "      <td>subpool3_sequence_549</td>\n",
       "      <td>ATGGAGAAACTGAAGGTCGTGAAAACCGTGACGTTTGATGGTAAAGAATATAAGTTCGAAGCGGAGCTGGAACTGAACAGCAGCAGCCAGACGGTGACCGTTACCGATAAAGAAAGCAACGTTACCCTGAAAGTGACCTTCGCGAACATTAGCGAAGAAGGCCTGGAAGAAAAGAGCGCGACCCTGACCATTGATGGCAAAACCTATGAACTGGAAGTGGAAAGCATCAGCTACGAAAACGGCACCTATTATGTGACCAACAAACTGAAA</td>\n",
       "      <td>270</td>\n",
       "      <td>True</td>\n",
       "    </tr>\n",
       "    <tr>\n",
       "      <th>1</th>\n",
       "      <td>1_A3</td>\n",
       "      <td>1_A2</td>\n",
       "      <td>source_384_01</td>\n",
       "      <td>A6</td>\n",
       "      <td>dest_1536_01</td>\n",
       "      <td>A6</td>\n",
       "      <td>dest_384_plate_01</td>\n",
       "      <td>A3</td>\n",
       "      <td>subpool3_sequence_615</td>\n",
       "      <td>ATGACCGTTACCAAAGTGTTTAAACGCGGCGATACCGAAGCGAGCGCGACCGTTTCTGTGGCGGATAACACCTGGACCACCATCACCGTGACCTATGAAATTGATGGCAAAACCTACGAATTTACCCTGACCGTGAAAGTGGATAAAGCGAACGGCCTGGTGTATGAACAGCGCGTGCCGGGCAAAACGTACGAAGTGACGTATGAAGTGAACGGTCAGAGCTATCCGCTGGCGATTACCCCGGAAGGCGATTGGTATCGTGCGAGCTTTCCGAGCTCGGCGACCAACGTGACCATTACCAACACCGAA</td>\n",
       "      <td>309</td>\n",
       "      <td>True</td>\n",
       "    </tr>\n",
       "    <tr>\n",
       "      <th>2</th>\n",
       "      <td>1_A5</td>\n",
       "      <td>1_A3</td>\n",
       "      <td>source_384_01</td>\n",
       "      <td>A14</td>\n",
       "      <td>dest_1536_01</td>\n",
       "      <td>A14</td>\n",
       "      <td>dest_384_plate_01</td>\n",
       "      <td>A5</td>\n",
       "      <td>subpool3_sequence_74</td>\n",
       "      <td>GCGACCTATAAATTCAAGAAAACCTTCGATCACGATGGTAAAACCCTGACGTTTGAATTTAGCGTGACCACCACCGCGAACACCCAGACCTTTACCAAAACCGTGAGCACCACCCTGGATGGCAAAACCTATAGCCTGACCCTGAAATTTACCCTGAACGTGGCGACCAAAACGGCGGATGAAGAACCGGTGACCCTGTATGTGAACGGCAAACCGGTTGCGGATTATAAACAGGCGAGCCAGAGCTATAGCAACGGCGTGTATAACATTACCAACGAAAAGGTGGAA</td>\n",
       "      <td>288</td>\n",
       "      <td>True</td>\n",
       "    </tr>\n",
       "    <tr>\n",
       "      <th>3</th>\n",
       "      <td>1_A7</td>\n",
       "      <td>1_A4</td>\n",
       "      <td>source_384_01</td>\n",
       "      <td>A18</td>\n",
       "      <td>dest_1536_01</td>\n",
       "      <td>A18</td>\n",
       "      <td>dest_384_plate_01</td>\n",
       "      <td>A7</td>\n",
       "      <td>subpool3_sequence_555</td>\n",
       "      <td>ATGACCGTAACCGTTAACAAAACGTTTGAAACCGAAGCGCCGGTGGATGTGAAAGTTACCATTACCGTGGAAGCCGAAGGCAAAACCAAAACCGAAACCCTGACCTATGAAAACCTGAAACCGGGCGATAAGAAAGAATGGACCCTGACCCTGGAAGCACCGGAAGCGGGCGAAGTTACGGTGAACGAAACCGTGACCGTGAAAGCGAAAGAAGGTAAAGTTCGCGCGACCGTTACCGTTGAAGCCCAGGGCATTACGAAAACCGCCGAAGCCGTGGCGGATAAAGAAGAAGTGACCCTGACGGTGACGCTGACCTTTGAAGCGACCGAAGAAGAGGTGACCGTCAACGTGACCAACAAAGTGGAGAAAGTGGAAGAA</td>\n",
       "      <td>378</td>\n",
       "      <td>True</td>\n",
       "    </tr>\n",
       "    <tr>\n",
       "      <th>4</th>\n",
       "      <td>1_A9</td>\n",
       "      <td>1_A5</td>\n",
       "      <td>source_384_01</td>\n",
       "      <td>B14</td>\n",
       "      <td>dest_1536_01</td>\n",
       "      <td>A38</td>\n",
       "      <td>dest_384_plate_01</td>\n",
       "      <td>A9</td>\n",
       "      <td>subpool3_sequence_424</td>\n",
       "      <td>ATGACCCTGAACGTGACGAAAACCTTCACCTACAAATATGGCACCCAGGAAAAGAAAATTACCAAGAACTTTACCATTGCGGCGGATGATGGCAAAACCTATTCCAAAACCCTGAGCTATAGCGAAACCTTGACCTTTACCGATCCGGAAACCGGTAAGAAATATAGCTACGATGTGAACGTTACCTATACCGTGACGGTGAAACGCGAAGGCGATACCCTGACCGTGACCGAAACCACCAGCACCAACTTTGATAGTCTGACCATTACCGATACTGAAACCGGCCTGAGCGCGACCGCGGCAGCGAATAGCAACAGCGTTAGTTTAACCGTGCCGGCGGATACCACCGCGGTGAACATTAACAACGTGAAAACGCTGAAAGAT</td>\n",
       "      <td>384</td>\n",
       "      <td>True</td>\n",
       "    </tr>\n",
       "  </tbody>\n",
       "</table>\n",
       "</div>"
      ],
      "text/plain": [
       "  384_glycerol_plate 96_purified_proteins_plate   source_plate source_well  \\\n",
       "0               1_A1                       1_A1  source_384_01          A3   \n",
       "1               1_A3                       1_A2  source_384_01          A6   \n",
       "2               1_A5                       1_A3  source_384_01         A14   \n",
       "3               1_A7                       1_A4  source_384_01         A18   \n",
       "4               1_A9                       1_A5  source_384_01         B14   \n",
       "\n",
       "  1536_dest_plate 1536_well         dest_plate dest_well  \\\n",
       "0    dest_1536_01        A3  dest_384_plate_01        A1   \n",
       "1    dest_1536_01        A6  dest_384_plate_01        A3   \n",
       "2    dest_1536_01       A14  dest_384_plate_01        A5   \n",
       "3    dest_1536_01       A18  dest_384_plate_01        A7   \n",
       "4    dest_1536_01       A38  dest_384_plate_01        A9   \n",
       "\n",
       "             design_name  \\\n",
       "0  subpool3_sequence_549   \n",
       "1  subpool3_sequence_615   \n",
       "2   subpool3_sequence_74   \n",
       "3  subpool3_sequence_555   \n",
       "4  subpool3_sequence_424   \n",
       "\n",
       "                                                                                                                                                                                                                                                                                                                                                                                           sequence  \\\n",
       "0                                                                                                                    ATGGAGAAACTGAAGGTCGTGAAAACCGTGACGTTTGATGGTAAAGAATATAAGTTCGAAGCGGAGCTGGAACTGAACAGCAGCAGCCAGACGGTGACCGTTACCGATAAAGAAAGCAACGTTACCCTGAAAGTGACCTTCGCGAACATTAGCGAAGAAGGCCTGGAAGAAAAGAGCGCGACCCTGACCATTGATGGCAAAACCTATGAACTGGAAGTGGAAAGCATCAGCTACGAAAACGGCACCTATTATGTGACCAACAAACTGAAA   \n",
       "1                                                                             ATGACCGTTACCAAAGTGTTTAAACGCGGCGATACCGAAGCGAGCGCGACCGTTTCTGTGGCGGATAACACCTGGACCACCATCACCGTGACCTATGAAATTGATGGCAAAACCTACGAATTTACCCTGACCGTGAAAGTGGATAAAGCGAACGGCCTGGTGTATGAACAGCGCGTGCCGGGCAAAACGTACGAAGTGACGTATGAAGTGAACGGTCAGAGCTATCCGCTGGCGATTACCCCGGAAGGCGATTGGTATCGTGCGAGCTTTCCGAGCTCGGCGACCAACGTGACCATTACCAACACCGAA   \n",
       "2                                                                                                  GCGACCTATAAATTCAAGAAAACCTTCGATCACGATGGTAAAACCCTGACGTTTGAATTTAGCGTGACCACCACCGCGAACACCCAGACCTTTACCAAAACCGTGAGCACCACCCTGGATGGCAAAACCTATAGCCTGACCCTGAAATTTACCCTGAACGTGGCGACCAAAACGGCGGATGAAGAACCGGTGACCCTGTATGTGAACGGCAAACCGGTTGCGGATTATAAACAGGCGAGCCAGAGCTATAGCAACGGCGTGTATAACATTACCAACGAAAAGGTGGAA   \n",
       "3        ATGACCGTAACCGTTAACAAAACGTTTGAAACCGAAGCGCCGGTGGATGTGAAAGTTACCATTACCGTGGAAGCCGAAGGCAAAACCAAAACCGAAACCCTGACCTATGAAAACCTGAAACCGGGCGATAAGAAAGAATGGACCCTGACCCTGGAAGCACCGGAAGCGGGCGAAGTTACGGTGAACGAAACCGTGACCGTGAAAGCGAAAGAAGGTAAAGTTCGCGCGACCGTTACCGTTGAAGCCCAGGGCATTACGAAAACCGCCGAAGCCGTGGCGGATAAAGAAGAAGTGACCCTGACGGTGACGCTGACCTTTGAAGCGACCGAAGAAGAGGTGACCGTCAACGTGACCAACAAAGTGGAGAAAGTGGAAGAA   \n",
       "4  ATGACCCTGAACGTGACGAAAACCTTCACCTACAAATATGGCACCCAGGAAAAGAAAATTACCAAGAACTTTACCATTGCGGCGGATGATGGCAAAACCTATTCCAAAACCCTGAGCTATAGCGAAACCTTGACCTTTACCGATCCGGAAACCGGTAAGAAATATAGCTACGATGTGAACGTTACCTATACCGTGACGGTGAAACGCGAAGGCGATACCCTGACCGTGACCGAAACCACCAGCACCAACTTTGATAGTCTGACCATTACCGATACTGAAACCGGCCTGAGCGCGACCGCGGCAGCGAATAGCAACAGCGTTAGTTTAACCGTGCCGGCGGATACCACCGCGGTGAACATTAACAACGTGAAAACGCTGAAAGAT   \n",
       "\n",
       "   length  correct_sequence  \n",
       "0     270              True  \n",
       "1     309              True  \n",
       "2     288              True  \n",
       "3     378              True  \n",
       "4     384              True  "
      ]
     },
     "execution_count": 149,
     "metadata": {},
     "output_type": "execute_result"
    }
   ],
   "source": [
    "final_rearrayed_384to96_df = pd.merge(df_mapping, echo_df_all_info, on=[\"384_glycerol_plate\"], how=\"inner\")\n",
    "final_rearrayed_384to96_df.head()"
   ]
  }
 ],
 "metadata": {
  "kernelspec": {
   "display_name": "jq-pyrosetta",
   "language": "python",
   "name": "jq-pyrosetta"
  },
  "language_info": {
   "codemirror_mode": {
    "name": "ipython",
    "version": 3
   },
   "file_extension": ".py",
   "mimetype": "text/x-python",
   "name": "python",
   "nbconvert_exporter": "python",
   "pygments_lexer": "ipython3",
   "version": "3.11.3"
  }
 },
 "nbformat": 4,
 "nbformat_minor": 5
}
